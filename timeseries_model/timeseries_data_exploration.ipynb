{
 "cells": [
  {
   "cell_type": "code",
   "execution_count": 8,
   "metadata": {},
   "outputs": [],
   "source": [
    "# IMPORT PACKAGES\n",
    "import pandas as pd\n",
    "import matplotlib.pyplot as plt\n",
    "import numpy as np\n",
    "import seaborn as sns\n",
    "sns.set()\n"
   ]
  },
  {
   "cell_type": "code",
   "execution_count": 1,
   "metadata": {},
   "outputs": [],
   "source": [
    "# import the dataset\n",
    "import requests\n",
    "\n",
    "# Toronto Open Data is stored in a CKAN instance. It's APIs are documented here:\n",
    "# https://docs.ckan.org/en/latest/api/\n",
    "\n",
    "base_url = \"https://ckan0.cf.opendata.inter.prod-toronto.ca\"\n",
    "dataset_ids = [\"daily-shelter-overnight-service-occupancy-capacity\", \"central-intake-calls\"]\n",
    "\n",
    "for d_id in dataset_ids:\n",
    "    url = base_url + \"/api/3/action/package_show\"\n",
    "    params = { \"id\": d_id }\n",
    "    package = requests.get(url, params = params).json()\n",
    "    \n",
    "    for idx, resource in enumerate(package[\"result\"][\"resources\"]):\n",
    "        if resource[\"datastore_active\"]:\n",
    "           # Get all records in CSV format:\n",
    "           url = base_url + \"/datastore/dump/\" + resource[\"id\"]\n",
    "           resource_dump_data = requests.get(url).text\n",
    "           # Save CSV files\n",
    "           filename = resource['name'].lower().replace(' ', '_')\n",
    "           f = open(filename + '.csv', \"w\")\n",
    "           f.write(resource_dump_data)\n",
    "           f.close()"
   ]
  },
  {
   "cell_type": "code",
   "execution_count": 6,
   "metadata": {},
   "outputs": [],
   "source": [
    "# import datasets \n",
    "shelter_use2023 = pd.read_csv(\"daily_shelter_overnight_occupancy.csv\")\n",
    "shelter_use2022 = pd.read_csv(\"daily-shelter-overnight-service-occupancy-capacity-2022.csv\")\n",
    "shelter_use2021 = pd.read_csv(\"daily-shelter-overnight-service-occupancy-capacity-2021.csv\")"
   ]
  },
  {
   "cell_type": "markdown",
   "metadata": {},
   "source": [
    "DATA EXPLORATION "
   ]
  },
  {
   "cell_type": "code",
   "execution_count": 7,
   "metadata": {},
   "outputs": [],
   "source": [
    "# create a combined object\n",
    "shelter_use_combined = pd.concat([shelter_use2023, shelter_use2022, shelter_use2021])\n",
    "\n",
    "# find the occupancy rates for each day\n",
    "\n",
    "# plot the occupancy rates for each day"
   ]
  }
 ],
 "metadata": {
  "kernelspec": {
   "display_name": "Python 3",
   "language": "python",
   "name": "python3"
  },
  "language_info": {
   "codemirror_mode": {
    "name": "ipython",
    "version": 3
   },
   "file_extension": ".py",
   "mimetype": "text/x-python",
   "name": "python",
   "nbconvert_exporter": "python",
   "pygments_lexer": "ipython3",
   "version": "3.9.13"
  }
 },
 "nbformat": 4,
 "nbformat_minor": 2
}
