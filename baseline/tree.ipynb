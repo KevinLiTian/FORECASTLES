{
 "cells": [
  {
   "cell_type": "code",
   "execution_count": 87,
   "id": "1b53ebfc-c0a9-48bf-8717-d281c78df8d7",
   "metadata": {},
   "outputs": [],
   "source": [
    "import pandas as pd\n",
    "import numpy as np\n",
    "from datetime import datetime"
   ]
  },
  {
   "cell_type": "code",
   "execution_count": 88,
   "id": "ecf01f67-e348-4382-b6b8-e3e0fc58034a",
   "metadata": {},
   "outputs": [],
   "source": [
    "# load data\n",
    "df_2021 = pd.read_csv('daily-shelter-overnight-service-occupancy-capacity-2021.csv')\n",
    "df_2022 = pd.read_csv('daily-shelter-overnight-service-occupancy-capacity-2022.csv')\n",
    "df_2023 = pd.read_csv('daily_shelter_overnight_occupancy.csv')\n",
    "\n",
    "# fix dates\n",
    "date_format = '%y-%m-%d'\n",
    "df_2021['OCCUPANCY_DATE'] = df_2021['OCCUPANCY_DATE'].apply(lambda x: datetime.strptime(x, date_format))\n",
    "df_2022['OCCUPANCY_DATE'] = df_2022['OCCUPANCY_DATE'].apply(lambda x: datetime.strptime(x, date_format))\n",
    "date_format = '%Y-%m-%d'\n",
    "df_2023['OCCUPANCY_DATE'] = df_2023['OCCUPANCY_DATE'].apply(lambda x: datetime.strptime(x, date_format))\n",
    "\n",
    "# combine data\n",
    "frames = [df_2021, df_2022, df_2023]\n",
    "df = pd.concat(frames)"
   ]
  },
  {
   "cell_type": "code",
   "execution_count": 89,
   "id": "981d5500-5931-408c-b9c6-2daff262258f",
   "metadata": {},
   "outputs": [],
   "source": [
    "# drop unique features\n",
    "\n",
    "df_dropped = df.drop(columns=[\n",
    "    '_id',\n",
    "    'ORGANIZATION_NAME',\n",
    "    'SHELTER_GROUP',\n",
    "    'LOCATION_NAME',\n",
    "    'LOCATION_ADDRESS',\n",
    "    'LOCATION_PROVINCE',\n",
    "    'PROGRAM_NAME',\n",
    "    'SERVICE_USER_COUNT',\n",
    "    'CAPACITY_FUNDING_BED',\n",
    "    'UNOCCUPIED_BEDS',\n",
    "    'CAPACITY_FUNDING_ROOM',\n",
    "    'UNOCCUPIED_ROOMS',\n",
    "    # might not need:\n",
    "    # 'OCCUPANCY_RATE_BEDS',\n",
    "    # 'OCCUPANCY_RATE_ROOMS'\n",
    "])\n",
    "\n",
    "# remove non-Toronto shelters\n",
    "# todo?: keep program area = Base Shelter and Overnight Services System\n",
    "df_dropped = df_dropped[df_dropped['LOCATION_CITY'] == 'Toronto']\n",
    "df_dropped = df_dropped.drop(columns=['LOCATION_CITY'])"
   ]
  },
  {
   "cell_type": "code",
   "execution_count": 90,
   "id": "eb1847ac-ac7e-44b2-9a86-85aa6e89cbcc",
   "metadata": {},
   "outputs": [],
   "source": [
    "df_dropped.columns\n",
    "\n",
    "# convert categorical variables\n",
    "df_converted = df_dropped\n",
    "\n",
    "# change occupancy_date to day of year\n",
    "df_converted['DAY_OF_YEAR'] = df_converted['OCCUPANCY_DATE'].apply(lambda x: x.timetuple().tm_yday)\n",
    "df_converted = df_converted.drop(columns=['OCCUPANCY_DATE'])\n",
    "\n",
    "# todo: add season from day of year\n",
    "\n",
    "# categorical variables\n",
    "cat_columns = ['LOCATION_POSTAL_CODE', 'SECTOR', 'PROGRAM_MODEL', 'OVERNIGHT_SERVICE_TYPE', 'PROGRAM_AREA', 'CAPACITY_TYPE']\n",
    "# might want to convert these differently'LOCATION_POSTAL_CODE', 'SECTOR', 'OVERNIGHT_SERVICE_TYPE', 'PROGRAM_AREA'\n",
    "\n",
    "# change capacity type to dummy variable\n",
    "df_converted[cat_columns] = df_converted[cat_columns].astype('category')\n",
    "cat_columns = df_converted.select_dtypes(['category']).columns\n",
    "df_converted[cat_columns] = df_converted[cat_columns].apply(lambda x: x.cat.codes)"
   ]
  },
  {
   "cell_type": "code",
   "execution_count": 91,
   "id": "1c7f9534-9635-4cce-ab05-2c259ea0e5d8",
   "metadata": {},
   "outputs": [],
   "source": [
    "# calculate occupancy rate\n",
    "df_converted['OCCUPANCY_RATE'] = df_converted['OCCUPANCY_RATE_BEDS'].replace(np.nan, 0) + df_converted['OCCUPANCY_RATE_ROOMS'].replace(np.nan, 0)"
   ]
  },
  {
   "cell_type": "code",
   "execution_count": 92,
   "id": "5d4a0ba1-065f-4a0f-8f6e-c0235c163195",
   "metadata": {},
   "outputs": [
    {
     "name": "stdout",
     "output_type": "stream",
     "text": [
      "R^2: 0.21711391532921187\n"
     ]
    }
   ],
   "source": [
    "from sklearn import tree\n",
    "from sklearn.model_selection import train_test_split # Import train_test_split function\n",
    "from sklearn.metrics import r2_score #Import scikit-learn metrics module for accuracy calculation\n",
    "\n",
    "all_possible_feature_cols = [\n",
    "    'ORGANIZATION_ID', 'SHELTER_ID', 'LOCATION_ID', 'LOCATION_POSTAL_CODE',\n",
    "    'PROGRAM_ID', 'SECTOR', 'PROGRAM_MODEL', 'OVERNIGHT_SERVICE_TYPE',\n",
    "    'PROGRAM_AREA', 'CAPACITY_TYPE', 'CAPACITY_ACTUAL_BED', 'OCCUPIED_BEDS',\n",
    "    'UNAVAILABLE_BEDS', 'CAPACITY_ACTUAL_ROOM', 'OCCUPIED_ROOMS',\n",
    "    'UNAVAILABLE_ROOMS', 'DAY_OF_YEAR'\n",
    "]\n",
    "X = df_converted[all_possible_feature_cols] # Features\n",
    "y = df_converted['OCCUPANCY_RATE']\n",
    "\n",
    "# Split dataset into training set and test set\n",
    "X_train, X_test, y_train, y_test = train_test_split(X, y, test_size=0.3, random_state=1) # 70% training and 30% test\n",
    "\n",
    "clf = tree.DecisionTreeRegressor()\n",
    "\n",
    "# Train Decision Tree Classifer\n",
    "clf = clf.fit(X_train,y_train)\n",
    "\n",
    "# Predict the response for test dataset\n",
    "y_pred = clf.predict(X_test)\n",
    "\n",
    "# Model Accuracy, how often is the classifier correct?\n",
    "print(\"R^2:\", metrics.r2_score(y_test, y_pred))"
   ]
  },
  {
   "cell_type": "code",
   "execution_count": 94,
   "id": "c4de7bb4-abfd-41a8-ac6f-35249c36e38b",
   "metadata": {},
   "outputs": [
    {
     "name": "stdout",
     "output_type": "stream",
     "text": [
      "R^2: 0.18304716187631476\n"
     ]
    }
   ],
   "source": [
    "# Train on subset of features\n",
    "feature_cols = [\n",
    "    'ORGANIZATION_ID', 'LOCATION_ID', 'LOCATION_POSTAL_CODE',\n",
    "    'SECTOR', 'PROGRAM_MODEL', 'OVERNIGHT_SERVICE_TYPE',\n",
    "    'PROGRAM_AREA', 'CAPACITY_TYPE', 'CAPACITY_ACTUAL_BED', 'CAPACITY_ACTUAL_ROOM',\n",
    "    'DAY_OF_YEAR'\n",
    "]\n",
    "X = df_converted[feature_cols] # Features\n",
    "y = df_converted['OCCUPANCY_RATE']\n",
    "\n",
    "# Split dataset into training set and test set\n",
    "X_train, X_test, y_train, y_test = train_test_split(X, y, test_size=0.3, random_state=1) # 70% training and 30% test\n",
    "\n",
    "clf = tree.DecisionTreeRegressor()\n",
    "\n",
    "# Train Decision Tree Classifer\n",
    "clf = clf.fit(X_train,y_train)\n",
    "\n",
    "# Predict the response for test dataset\n",
    "y_pred = clf.predict(X_test)\n",
    "\n",
    "# R^2 value, how often is the classifier correct?\n",
    "print(\"R^2:\", metrics.r2_score(y_test, y_pred))"
   ]
  }
 ],
 "metadata": {
  "kernelspec": {
   "display_name": "Python 3 (ipykernel)",
   "language": "python",
   "name": "python3"
  },
  "language_info": {
   "codemirror_mode": {
    "name": "ipython",
    "version": 3
   },
   "file_extension": ".py",
   "mimetype": "text/x-python",
   "name": "python",
   "nbconvert_exporter": "python",
   "pygments_lexer": "ipython3",
   "version": "3.10.3"
  }
 },
 "nbformat": 4,
 "nbformat_minor": 5
}
