{
 "cells": [
  {
   "cell_type": "markdown",
   "metadata": {},
   "source": [
    "From `pca.ipynb` we got to know that random forest works the best with PCA comparing to simple linear regression, or SVM. This file will explore more about random forest and its parameters. "
   ]
  },
  {
   "cell_type": "code",
   "execution_count": 47,
   "metadata": {},
   "outputs": [],
   "source": [
    "# Import packages\n",
    "import numpy as np\n",
    "import pandas as pd\n",
    "from sklearn.decomposition import PCA\n",
    "from sklearn.preprocessing import LabelEncoder\n",
    "from sklearn.preprocessing import StandardScaler\n",
    "from sklearn.model_selection import train_test_split\n",
    "from sklearn.ensemble import RandomForestRegressor\n",
    "from sklearn.metrics import mean_squared_error"
   ]
  },
  {
   "cell_type": "code",
   "execution_count": 48,
   "metadata": {},
   "outputs": [],
   "source": [
    "# Load the data\n",
    "df2021 = pd.read_csv('../data/daily-shelter-overnight-service-occupancy-capacity-2021.csv')\n",
    "df2022 = pd.read_csv('../data/daily-shelter-overnight-service-occupancy-capacity-2022.csv')\n",
    "df2023 = pd.read_csv('../data/Daily shelter overnight occupancy.csv') \n",
    "\n",
    "# Unify year format\n",
    "df2021['OCCUPANCY_DATE'] = df2021['OCCUPANCY_DATE'].apply(lambda x: '2021' + x[2:] if x.startswith('21') else x)\n",
    "df2022['OCCUPANCY_DATE'] = df2022['OCCUPANCY_DATE'].apply(lambda x: '2022' + x[2:] if x.startswith('22') else x)\n",
    "\n",
    "# Concatenate the dataframes\n",
    "df = pd.concat([df2021, df2022, df2023], ignore_index=True)\n",
    "\n",
    "# Process date column\n",
    "df[\"OCCUPANCY_DATE\"] = pd.to_datetime(df[\"OCCUPANCY_DATE\"])\n",
    "df[\"year\"] = df[\"OCCUPANCY_DATE\"].dt.year\n",
    "df[\"month\"] = df[\"OCCUPANCY_DATE\"].dt.month\n",
    "df[\"day\"] = df[\"OCCUPANCY_DATE\"].dt.day\n",
    "df = df.drop(columns=[\"OCCUPANCY_DATE\"])\n",
    "\n",
    "# Get occupancy rate\n",
    "df['OCCUPANCY_RATE'] = np.where(df['CAPACITY_TYPE'] == 'Bed Based Capacity', df['OCCUPANCY_RATE_BEDS'], np.where(df['CAPACITY_TYPE'] == 'Room Based Capacity', df['OCCUPANCY_RATE_ROOMS'], np.nan))\n",
    "\n",
    "# Drop columns that are not useful\n",
    "df = df.drop(\n",
    "    columns=[\n",
    "        \"ORGANIZATION_NAME\",\n",
    "        \"SHELTER_GROUP\",\n",
    "        \"LOCATION_NAME\",\n",
    "        \"LOCATION_ADDRESS\",\n",
    "        \"LOCATION_POSTAL_CODE\",\n",
    "        \"LOCATION_CITY\",\n",
    "        \"LOCATION_PROVINCE\",\n",
    "        \"PROGRAM_NAME\",\n",
    "        \"CAPACITY_ACTUAL_BED\",\n",
    "        \"CAPACITY_FUNDING_BED\",\n",
    "        \"OCCUPIED_BEDS\",\n",
    "        \"UNOCCUPIED_BEDS\",\n",
    "        \"UNAVAILABLE_BEDS\",\n",
    "        \"CAPACITY_TYPE\",\n",
    "        \"CAPACITY_ACTUAL_ROOM\",\n",
    "        \"CAPACITY_FUNDING_ROOM\",\n",
    "        \"OCCUPIED_ROOMS\",\n",
    "        \"UNOCCUPIED_ROOMS\",\n",
    "        \"UNAVAILABLE_ROOMS\",\n",
    "        \"OCCUPANCY_RATE_BEDS\",\n",
    "        \"OCCUPANCY_RATE_ROOMS\",\n",
    "    ]\n",
    ")\n",
    "\n",
    "# Encode categorical variables\n",
    "le1 = LabelEncoder()\n",
    "df[\"SECTOR\"] = le1.fit_transform(df[\"SECTOR\"])\n",
    "\n",
    "le2 = LabelEncoder()\n",
    "df[\"PROGRAM_MODEL\"] = le2.fit_transform(df[\"PROGRAM_MODEL\"])\n",
    "\n",
    "le3 = LabelEncoder()\n",
    "df[\"OVERNIGHT_SERVICE_TYPE\"] = le3.fit_transform(df[\"OVERNIGHT_SERVICE_TYPE\"])\n",
    "\n",
    "le4 = LabelEncoder()\n",
    "df[\"PROGRAM_AREA\"] = le4.fit_transform(df[\"PROGRAM_AREA\"])\n",
    "\n",
    "# Drop NaN rows\n",
    "df.dropna(subset=[\"LOCATION_ID\"], inplace=True)\n",
    "\n",
    "# Standardize data\n",
    "scaler = StandardScaler()\n",
    "scaled_data = scaler.fit_transform(df.drop(\"OCCUPANCY_RATE\", axis=1))\n",
    "\n",
    "# Step 3: Separate Features and Target\n",
    "X = scaled_data\n",
    "y = df['OCCUPANCY_RATE']\n",
    "\n",
    "# Split data into training and testing sets\n",
    "X_train, X_test, y_train, y_test = train_test_split(X, y, test_size=0.2, random_state=42)\n",
    "\n",
    "# Step 4: Apply PCA\n",
    "pca = PCA(n_components=0.99)  # keep 99% of variance\n",
    "X_train_pca = pca.fit_transform(X_train)\n",
    "X_test_pca = pca.transform(X_test)"
   ]
  },
  {
   "cell_type": "markdown",
   "metadata": {},
   "source": [
    "Train the basic Random Forest Regressor"
   ]
  },
  {
   "cell_type": "code",
   "execution_count": 49,
   "metadata": {},
   "outputs": [
    {
     "name": "stdout",
     "output_type": "stream",
     "text": [
      "Mean Squared Error: 5.199318986448944\n"
     ]
    }
   ],
   "source": [
    "# Random Forest\n",
    "rf = RandomForestRegressor(random_state=42)\n",
    "rf.fit(X_train_pca, y_train)\n",
    "\n",
    "y_pred = rf.predict(X_test_pca)\n",
    "mse = mean_squared_error(y_test, y_pred)\n",
    "print(f'Mean Squared Error: {mse}')"
   ]
  },
  {
   "cell_type": "code",
   "execution_count": 50,
   "metadata": {},
   "outputs": [
    {
     "name": "stdout",
     "output_type": "stream",
     "text": [
      "       Predicted  Actual\n",
      "0        99.6266  100.00\n",
      "1       100.0000  100.00\n",
      "2       100.0000  100.00\n",
      "3        99.9773  100.00\n",
      "4        90.8639   90.91\n",
      "...          ...     ...\n",
      "27553   100.0000  100.00\n",
      "27554    99.3189   97.73\n",
      "27555    98.6475   97.92\n",
      "27556    99.9737  100.00\n",
      "27557   100.0000  100.00\n",
      "\n",
      "[27558 rows x 2 columns]\n"
     ]
    }
   ],
   "source": [
    "comparison_df = pd.DataFrame({'Predicted': y_pred, 'Actual': y_test.reset_index(drop=True)})\n",
    "print(comparison_df)"
   ]
  },
  {
   "cell_type": "markdown",
   "metadata": {},
   "source": [
    "n_estimators = 200"
   ]
  },
  {
   "cell_type": "code",
   "execution_count": 52,
   "metadata": {},
   "outputs": [
    {
     "name": "stdout",
     "output_type": "stream",
     "text": [
      "Mean Squared Error: 5.198406357917208\n"
     ]
    }
   ],
   "source": [
    "rf = RandomForestRegressor(n_estimators=200, random_state=42, n_jobs=-1)\n",
    "rf.fit(X_train_pca, y_train)\n",
    "\n",
    "y_pred = rf.predict(X_test_pca)\n",
    "mse = mean_squared_error(y_test, y_pred)\n",
    "print(f'Mean Squared Error: {mse}')"
   ]
  },
  {
   "cell_type": "markdown",
   "metadata": {},
   "source": [
    "max_depth = 10"
   ]
  },
  {
   "cell_type": "code",
   "execution_count": 53,
   "metadata": {},
   "outputs": [
    {
     "name": "stdout",
     "output_type": "stream",
     "text": [
      "Mean Squared Error: 24.367065548773542\n"
     ]
    }
   ],
   "source": [
    "rf = RandomForestRegressor(max_depth=10, random_state=42, n_jobs=-1)\n",
    "rf.fit(X_train_pca, y_train)\n",
    "\n",
    "y_pred = rf.predict(X_test_pca)\n",
    "mse = mean_squared_error(y_test, y_pred)\n",
    "print(f'Mean Squared Error: {mse}')"
   ]
  },
  {
   "cell_type": "markdown",
   "metadata": {},
   "source": [
    "min_samples_split = 10"
   ]
  },
  {
   "cell_type": "code",
   "execution_count": 54,
   "metadata": {},
   "outputs": [
    {
     "name": "stdout",
     "output_type": "stream",
     "text": [
      "Mean Squared Error: 5.946810103521473\n"
     ]
    }
   ],
   "source": [
    "rf = RandomForestRegressor(min_samples_split=10, random_state=42, n_jobs=-1)\n",
    "rf.fit(X_train_pca, y_train)\n",
    "\n",
    "y_pred = rf.predict(X_test_pca)\n",
    "mse = mean_squared_error(y_test, y_pred)\n",
    "print(f'Mean Squared Error: {mse}')"
   ]
  },
  {
   "cell_type": "markdown",
   "metadata": {},
   "source": [
    "min_samples_leaf = 4"
   ]
  },
  {
   "cell_type": "code",
   "execution_count": 55,
   "metadata": {},
   "outputs": [
    {
     "name": "stdout",
     "output_type": "stream",
     "text": [
      "Mean Squared Error: 6.574647317739828\n"
     ]
    }
   ],
   "source": [
    "rf = RandomForestRegressor(min_samples_leaf=4, random_state=42, n_jobs=-1)\n",
    "rf.fit(X_train_pca, y_train)\n",
    "\n",
    "y_pred = rf.predict(X_test_pca)\n",
    "mse = mean_squared_error(y_test, y_pred)\n",
    "print(f'Mean Squared Error: {mse}')"
   ]
  },
  {
   "cell_type": "markdown",
   "metadata": {},
   "source": [
    "max_samples = 0.5"
   ]
  },
  {
   "cell_type": "code",
   "execution_count": 57,
   "metadata": {},
   "outputs": [
    {
     "name": "stdout",
     "output_type": "stream",
     "text": [
      "Mean Squared Error: 6.331886238564481\n"
     ]
    }
   ],
   "source": [
    "rf = RandomForestRegressor(max_samples=0.5, random_state=42, n_jobs=-1)\n",
    "rf.fit(X_train_pca, y_train)\n",
    "\n",
    "y_pred = rf.predict(X_test_pca)\n",
    "mse = mean_squared_error(y_test, y_pred)\n",
    "print(f'Mean Squared Error: {mse}')"
   ]
  },
  {
   "cell_type": "markdown",
   "metadata": {},
   "source": [
    "ccp_alpha = 0.01"
   ]
  },
  {
   "cell_type": "code",
   "execution_count": 58,
   "metadata": {},
   "outputs": [
    {
     "name": "stdout",
     "output_type": "stream",
     "text": [
      "Mean Squared Error: 8.773410287093315\n"
     ]
    }
   ],
   "source": [
    "rf = RandomForestRegressor(ccp_alpha=0.01, random_state=42, n_jobs=-1)\n",
    "rf.fit(X_train_pca, y_train)\n",
    "\n",
    "y_pred = rf.predict(X_test_pca)\n",
    "mse = mean_squared_error(y_test, y_pred)\n",
    "print(f'Mean Squared Error: {mse}')"
   ]
  },
  {
   "cell_type": "markdown",
   "metadata": {},
   "source": [
    "oob_score = True"
   ]
  },
  {
   "cell_type": "code",
   "execution_count": 59,
   "metadata": {},
   "outputs": [
    {
     "name": "stdout",
     "output_type": "stream",
     "text": [
      "Mean Squared Error: 5.199318986448943\n"
     ]
    }
   ],
   "source": [
    "rf = RandomForestRegressor(oob_score=True, random_state=42, n_jobs=-1)\n",
    "rf.fit(X_train_pca, y_train)\n",
    "\n",
    "y_pred = rf.predict(X_test_pca)\n",
    "mse = mean_squared_error(y_test, y_pred)\n",
    "print(f'Mean Squared Error: {mse}')"
   ]
  },
  {
   "cell_type": "markdown",
   "metadata": {},
   "source": [
    "Seems like n_estimator boosts up performance in some extent."
   ]
  },
  {
   "cell_type": "code",
   "execution_count": 60,
   "metadata": {},
   "outputs": [
    {
     "name": "stdout",
     "output_type": "stream",
     "text": [
      "Mean Squared Error: 5.21996137153019\n"
     ]
    }
   ],
   "source": [
    "rf = RandomForestRegressor(n_estimators=300, random_state=42, n_jobs=-1)\n",
    "rf.fit(X_train_pca, y_train)\n",
    "\n",
    "y_pred = rf.predict(X_test_pca)\n",
    "mse = mean_squared_error(y_test, y_pred)\n",
    "print(f'Mean Squared Error: {mse}')"
   ]
  },
  {
   "cell_type": "code",
   "execution_count": 61,
   "metadata": {},
   "outputs": [
    {
     "name": "stdout",
     "output_type": "stream",
     "text": [
      "Mean Squared Error: 5.1734712909496645\n"
     ]
    }
   ],
   "source": [
    "rf = RandomForestRegressor(n_estimators=400, random_state=42, n_jobs=-1)\n",
    "rf.fit(X_train_pca, y_train)\n",
    "\n",
    "y_pred = rf.predict(X_test_pca)\n",
    "mse = mean_squared_error(y_test, y_pred)\n",
    "print(f'Mean Squared Error: {mse}')"
   ]
  },
  {
   "cell_type": "code",
   "execution_count": 62,
   "metadata": {},
   "outputs": [
    {
     "name": "stdout",
     "output_type": "stream",
     "text": [
      "Mean Squared Error: 5.187477215673559\n"
     ]
    }
   ],
   "source": [
    "rf = RandomForestRegressor(n_estimators=500, random_state=42, n_jobs=-1)\n",
    "rf.fit(X_train_pca, y_train)\n",
    "\n",
    "y_pred = rf.predict(X_test_pca)\n",
    "mse = mean_squared_error(y_test, y_pred)\n",
    "print(f'Mean Squared Error: {mse}')"
   ]
  },
  {
   "cell_type": "code",
   "execution_count": 63,
   "metadata": {},
   "outputs": [
    {
     "name": "stdout",
     "output_type": "stream",
     "text": [
      "Mean Squared Error: 5.1871778661913135\n"
     ]
    }
   ],
   "source": [
    "rf = RandomForestRegressor(n_estimators=600, random_state=42, n_jobs=-1)\n",
    "rf.fit(X_train_pca, y_train)\n",
    "\n",
    "y_pred = rf.predict(X_test_pca)\n",
    "mse = mean_squared_error(y_test, y_pred)\n",
    "print(f'Mean Squared Error: {mse}')"
   ]
  },
  {
   "cell_type": "code",
   "execution_count": 64,
   "metadata": {},
   "outputs": [
    {
     "name": "stdout",
     "output_type": "stream",
     "text": [
      "Mean Squared Error: 5.185423453752611\n"
     ]
    }
   ],
   "source": [
    "rf = RandomForestRegressor(n_estimators=700, random_state=42, n_jobs=-1)\n",
    "rf.fit(X_train_pca, y_train)\n",
    "\n",
    "y_pred = rf.predict(X_test_pca)\n",
    "mse = mean_squared_error(y_test, y_pred)\n",
    "print(f'Mean Squared Error: {mse}')"
   ]
  },
  {
   "cell_type": "code",
   "execution_count": 65,
   "metadata": {},
   "outputs": [
    {
     "name": "stdout",
     "output_type": "stream",
     "text": [
      "Mean Squared Error: 5.198346022912875\n"
     ]
    }
   ],
   "source": [
    "rf = RandomForestRegressor(n_estimators=1000, random_state=42, n_jobs=-1)\n",
    "rf.fit(X_train_pca, y_train)\n",
    "\n",
    "y_pred = rf.predict(X_test_pca)\n",
    "mse = mean_squared_error(y_test, y_pred)\n",
    "print(f'Mean Squared Error: {mse}')"
   ]
  },
  {
   "cell_type": "markdown",
   "metadata": {},
   "source": [
    "n_estimators = 400 works the best"
   ]
  },
  {
   "cell_type": "code",
   "execution_count": 66,
   "metadata": {},
   "outputs": [
    {
     "name": "stdout",
     "output_type": "stream",
     "text": [
      "Mean Squared Error: 5.173471290949664\n"
     ]
    }
   ],
   "source": [
    "rf = RandomForestRegressor(n_estimators=400, random_state=42, n_jobs=-1)\n",
    "rf.fit(X_train_pca, y_train)\n",
    "\n",
    "y_pred = rf.predict(X_test_pca)\n",
    "mse = mean_squared_error(y_test, y_pred)\n",
    "print(f'Mean Squared Error: {mse}')"
   ]
  },
  {
   "cell_type": "code",
   "execution_count": 67,
   "metadata": {},
   "outputs": [
    {
     "name": "stdout",
     "output_type": "stream",
     "text": [
      "        Predicted  Actual\n",
      "0       99.595450  100.00\n",
      "1      100.000000  100.00\n",
      "2       99.975300  100.00\n",
      "3       99.982975  100.00\n",
      "4       90.890425   90.91\n",
      "...           ...     ...\n",
      "27553   99.969500  100.00\n",
      "27554   99.351125   97.73\n",
      "27555   98.344225   97.92\n",
      "27556   99.964475  100.00\n",
      "27557   99.994450  100.00\n",
      "\n",
      "[27558 rows x 2 columns]\n"
     ]
    }
   ],
   "source": [
    "comparison_df = pd.DataFrame({'Predicted': y_pred, 'Actual': y_test.reset_index(drop=True)})\n",
    "print(comparison_df)"
   ]
  }
 ],
 "metadata": {
  "kernelspec": {
   "display_name": "fc",
   "language": "python",
   "name": "python3"
  },
  "language_info": {
   "codemirror_mode": {
    "name": "ipython",
    "version": 3
   },
   "file_extension": ".py",
   "mimetype": "text/x-python",
   "name": "python",
   "nbconvert_exporter": "python",
   "pygments_lexer": "ipython3",
   "version": "3.11.5"
  }
 },
 "nbformat": 4,
 "nbformat_minor": 2
}
