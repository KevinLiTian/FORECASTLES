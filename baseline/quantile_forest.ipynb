{
 "cells": [
  {
   "cell_type": "code",
   "execution_count": 1,
   "metadata": {},
   "outputs": [],
   "source": [
    "# Import packages\n",
    "import numpy as np\n",
    "import pandas as pd\n",
    "from sklearn.decomposition import PCA\n",
    "from sklearn.preprocessing import LabelEncoder\n",
    "from sklearn.preprocessing import StandardScaler\n",
    "from sklearn.linear_model import QuantileRegressor\n",
    "from sklearn.metrics import mean_squared_error"
   ]
  },
  {
   "cell_type": "code",
   "execution_count": 23,
   "metadata": {},
   "outputs": [],
   "source": [
    "df = pd.read_csv('..\\\\data\\\\shelter_neighbourhood_features.csv')"
   ]
  },
  {
   "cell_type": "code",
   "execution_count": 24,
   "metadata": {},
   "outputs": [],
   "source": [
    "# Process date column\n",
    "df[\"OCCUPANCY_DATE\"] = pd.to_datetime(df[\"OCCUPANCY_DATE\"])\n",
    "df[\"year\"] = df[\"OCCUPANCY_DATE\"].dt.year\n",
    "df[\"month\"] = df[\"OCCUPANCY_DATE\"].dt.month\n",
    "df[\"day\"] = df[\"OCCUPANCY_DATE\"].dt.day\n",
    "df = df.drop(columns=[\"OCCUPANCY_DATE\"])"
   ]
  },
  {
   "cell_type": "code",
   "execution_count": 25,
   "metadata": {},
   "outputs": [],
   "source": [
    "# Drop columns that are not useful\n",
    "df = df.drop(\n",
    "    columns=[\n",
    "        \"ORGANIZATION_NAME\",\n",
    "        \"SHELTER_GROUP\",\n",
    "        \"LOCATION_NAME\",\n",
    "        \"LOCATION_ADDRESS\",\n",
    "        \"LOCATION_POSTAL_CODE\",\n",
    "        \"LOCATION_CITY\",\n",
    "        \"LOCATION_PROVINCE\",\n",
    "        \"PROGRAM_NAME\",\n",
    "        \"CAPACITY_ACTUAL_BED\",\n",
    "        \"CAPACITY_FUNDING_BED\",\n",
    "        \"OCCUPIED_BEDS\",\n",
    "        \"UNOCCUPIED_BEDS\",\n",
    "        \"UNAVAILABLE_BEDS\",\n",
    "        \"CAPACITY_TYPE\",\n",
    "        \"CAPACITY_ACTUAL_ROOM\",\n",
    "        \"CAPACITY_FUNDING_ROOM\",\n",
    "        \"OCCUPIED_ROOMS\",\n",
    "        \"UNOCCUPIED_ROOMS\",\n",
    "        \"UNAVAILABLE_ROOMS\",\n",
    "        \"OCCUPANCY_RATE_BEDS\",\n",
    "        \"OCCUPANCY_RATE_ROOMS\",\n",
    "    ]\n",
    ")"
   ]
  },
  {
   "cell_type": "code",
   "execution_count": 29,
   "metadata": {},
   "outputs": [],
   "source": [
    "# Encode categorical variables\n",
    "le1 = LabelEncoder()\n",
    "df[\"SECTOR\"] = le1.fit_transform(df[\"SECTOR\"])\n",
    "\n",
    "le2 = LabelEncoder()\n",
    "df[\"PROGRAM_MODEL\"] = le2.fit_transform(df[\"PROGRAM_MODEL\"])\n",
    "\n",
    "le3 = LabelEncoder()\n",
    "df[\"OVERNIGHT_SERVICE_TYPE\"] = le3.fit_transform(df[\"OVERNIGHT_SERVICE_TYPE\"])\n",
    "\n",
    "le4 = LabelEncoder()\n",
    "df[\"PROGRAM_AREA\"] = le4.fit_transform(df[\"PROGRAM_AREA\"])\n",
    "\n",
    "le5 = LabelEncoder()\n",
    "df[\"Neighbourhood\"] = le5.fit_transform(df[\"Neighbourhood\"])\n",
    "\n",
    "le6 = LabelEncoder()\n",
    "df[\"TSNS 2020 Designation\"] = le6.fit_transform(df[\"TSNS 2020 Designation\"])"
   ]
  },
  {
   "cell_type": "code",
   "execution_count": 26,
   "metadata": {},
   "outputs": [
    {
     "name": "stdout",
     "output_type": "stream",
     "text": [
      "<class 'pandas.core.frame.DataFrame'>\n",
      "RangeIndex: 133193 entries, 0 to 133192\n",
      "Data columns (total 50 columns):\n",
      " #   Column                                                                            Non-Null Count   Dtype  \n",
      "---  ------                                                                            --------------   -----  \n",
      " 0   _id                                                                               133193 non-null  int64  \n",
      " 1   ORGANIZATION_ID                                                                   133193 non-null  int64  \n",
      " 2   SHELTER_ID                                                                        133193 non-null  int64  \n",
      " 3   LOCATION_ID                                                                       133193 non-null  int64  \n",
      " 4   PROGRAM_ID                                                                        133193 non-null  int64  \n",
      " 5   SECTOR                                                                            133193 non-null  object \n",
      " 6   PROGRAM_MODEL                                                                     133193 non-null  object \n",
      " 7   OVERNIGHT_SERVICE_TYPE                                                            133193 non-null  object \n",
      " 8   PROGRAM_AREA                                                                      133193 non-null  object \n",
      " 9   SERVICE_USER_COUNT                                                                133193 non-null  int64  \n",
      " 10  Neighbourhood                                                                     133193 non-null  object \n",
      " 11  LAT                                                                               133193 non-null  float64\n",
      " 12  LON                                                                               133193 non-null  float64\n",
      " 13  Neighbourhood Number                                                              133193 non-null  int64  \n",
      " 14  TSNS 2020 Designation                                                             133193 non-null  object \n",
      " 15  Total - Age groups of the population - 25% sample data                            133193 non-null  int64  \n",
      " 16  0 to 14 years                                                                     133193 non-null  int64  \n",
      " 17  0 to 4 years                                                                      133193 non-null  int64  \n",
      " 18  5 to 9 years                                                                      133193 non-null  int64  \n",
      " 19  10 to 14 years                                                                    133193 non-null  int64  \n",
      " 20  15 to 64 years                                                                    133193 non-null  int64  \n",
      " 21  15 to 19 years                                                                    133193 non-null  int64  \n",
      " 22  20 to 24 years                                                                    133193 non-null  int64  \n",
      " 23  25 to 29 years                                                                    133193 non-null  int64  \n",
      " 24  30 to 34 years                                                                    133193 non-null  int64  \n",
      " 25  35 to 39 years                                                                    133193 non-null  int64  \n",
      " 26  40 to 44 years                                                                    133193 non-null  int64  \n",
      " 27  45 to 49 years                                                                    133193 non-null  int64  \n",
      " 28  50 to 54 years                                                                    133193 non-null  int64  \n",
      " 29  55 to 59 years                                                                    133193 non-null  int64  \n",
      " 30  60 to 64 years                                                                    133193 non-null  int64  \n",
      " 31  65 years and over                                                                 133193 non-null  int64  \n",
      " 32  65 to 69 years                                                                    133193 non-null  int64  \n",
      " 33  70 to 74 years                                                                    133193 non-null  int64  \n",
      " 34  75 to 79 years                                                                    133193 non-null  int64  \n",
      " 35  80 to 84 years                                                                    133193 non-null  int64  \n",
      " 36  85 years and over                                                                 133193 non-null  int64  \n",
      " 37  85 to 89 years                                                                    133193 non-null  int64  \n",
      " 38  90 to 94 years                                                                    133193 non-null  int64  \n",
      " 39  95 to 99 years                                                                    133193 non-null  int64  \n",
      " 40  Total - Distribution (%) of the population by broad age groups - 25% sample data  133193 non-null  int64  \n",
      " 41  0 to 14 years.1                                                                   133193 non-null  float64\n",
      " 42  15 to 64 years.1                                                                  133193 non-null  float64\n",
      " 43  65 years and over.1                                                               133193 non-null  float64\n",
      " 44  85 years and over.1                                                               133193 non-null  float64\n",
      " 45  Average age of the population                                                     133193 non-null  float64\n",
      " 46  Median age of the population                                                      133193 non-null  float64\n",
      " 47  Total - Persons in private households - 25% sample data                           133193 non-null  int64  \n",
      " 48  Total - Persons in census families                                                133193 non-null  int64  \n",
      " 49  Married spouses or common-law partners                                            133193 non-null  int64  \n",
      "dtypes: float64(8), int64(36), object(6)\n",
      "memory usage: 50.8+ MB\n"
     ]
    }
   ],
   "source": [
    "df[df.columns[:50]].info()"
   ]
  },
  {
   "cell_type": "code",
   "execution_count": 30,
   "metadata": {},
   "outputs": [],
   "source": [
    "# Split the DataFrame into training and testing sets\n",
    "train_df = df[df['year'].isin([2021, 2022])]\n",
    "test_df = df[df['year'] == 2023]"
   ]
  },
  {
   "cell_type": "code",
   "execution_count": 31,
   "metadata": {},
   "outputs": [],
   "source": [
    "# Shuffle the data\n",
    "shuffled_train_df = train_df.sample(frac=1).reset_index(drop=True)\n",
    "shuffled_test_df = test_df.sample(frac=1).reset_index(drop=True)"
   ]
  },
  {
   "cell_type": "code",
   "execution_count": 32,
   "metadata": {},
   "outputs": [],
   "source": [
    "# Split into features and target\n",
    "x_train = shuffled_train_df.drop(\"SERVICE_USER_COUNT\", axis=1)\n",
    "y_train = shuffled_train_df[\"SERVICE_USER_COUNT\"]\n",
    "x_test = shuffled_test_df.drop(\"SERVICE_USER_COUNT\", axis=1)\n",
    "y_test = shuffled_test_df[\"SERVICE_USER_COUNT\"]"
   ]
  },
  {
   "cell_type": "code",
   "execution_count": 33,
   "metadata": {},
   "outputs": [],
   "source": [
    "# Apply PCA\n",
    "pca = PCA(n_components=0.99)  # keep 99% of variance\n",
    "x_train_pca = pca.fit_transform(x_train)\n",
    "x_test_pca = pca.transform(x_test)"
   ]
  },
  {
   "cell_type": "code",
   "execution_count": 34,
   "metadata": {},
   "outputs": [
    {
     "name": "stdout",
     "output_type": "stream",
     "text": [
      "Mean Squared Error: 7946.015793698614\n"
     ]
    }
   ],
   "source": [
    "model = QuantileRegressor(quantile=0.5, alpha=0.01, solver='highs')\n",
    "model.fit(x_train_pca, y_train)\n",
    "\n",
    "y_pred = model.predict(x_test_pca)\n",
    "mse = mean_squared_error(y_test, y_pred)\n",
    "print(f'Mean Squared Error: {mse}')"
   ]
  },
  {
   "cell_type": "code",
   "execution_count": 35,
   "metadata": {},
   "outputs": [
    {
     "name": "stdout",
     "output_type": "stream",
     "text": [
      "       Predicted  Actual\n",
      "0      46.434634     279\n",
      "1      41.481406      50\n",
      "2      36.002080      72\n",
      "3      46.429144     215\n",
      "4      36.038249      83\n",
      "...          ...     ...\n",
      "36400  41.486314      50\n",
      "36401  36.049338      82\n",
      "36402  36.030785      94\n",
      "36403  28.090470      20\n",
      "36404  31.686656      39\n",
      "\n",
      "[36405 rows x 2 columns]\n"
     ]
    }
   ],
   "source": [
    "comparison_df = pd.DataFrame({'Predicted': y_pred, 'Actual': y_test.reset_index(drop=True)})\n",
    "print(comparison_df)"
   ]
  },
  {
   "cell_type": "code",
   "execution_count": null,
   "metadata": {},
   "outputs": [],
   "source": []
  }
 ],
 "metadata": {
  "kernelspec": {
   "display_name": "Python 3 (ipykernel)",
   "language": "python",
   "name": "python3"
  },
  "language_info": {
   "codemirror_mode": {
    "name": "ipython",
    "version": 3
   },
   "file_extension": ".py",
   "mimetype": "text/x-python",
   "name": "python",
   "nbconvert_exporter": "python",
   "pygments_lexer": "ipython3",
   "version": "3.10.3"
  }
 },
 "nbformat": 4,
 "nbformat_minor": 4
}
