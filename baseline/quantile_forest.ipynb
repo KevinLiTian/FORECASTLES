{
 "cells": [
  {
   "cell_type": "code",
   "execution_count": 21,
   "metadata": {},
   "outputs": [],
   "source": [
    "# Import packages\n",
    "import numpy as np\n",
    "import pandas as pd\n",
    "from sklearn.decomposition import PCA\n",
    "from sklearn.preprocessing import LabelEncoder\n",
    "from sklearn.preprocessing import StandardScaler\n",
    "from sklearn.linear_model import QuantileRegressor\n",
    "from sklearn.metrics import mean_squared_error"
   ]
  },
  {
   "cell_type": "code",
   "execution_count": 22,
   "metadata": {},
   "outputs": [],
   "source": [
    "df = pd.read_csv('../data/shelter_neighbourhood_features.csv')"
   ]
  },
  {
   "cell_type": "code",
   "execution_count": 23,
   "metadata": {},
   "outputs": [],
   "source": [
    "# Process date column\n",
    "df[\"OCCUPANCY_DATE\"] = pd.to_datetime(df[\"OCCUPANCY_DATE\"])\n",
    "df[\"year\"] = df[\"OCCUPANCY_DATE\"].dt.year\n",
    "df[\"month\"] = df[\"OCCUPANCY_DATE\"].dt.month\n",
    "df[\"day\"] = df[\"OCCUPANCY_DATE\"].dt.day\n",
    "df = df.drop(columns=[\"OCCUPANCY_DATE\"])"
   ]
  },
  {
   "cell_type": "code",
   "execution_count": 24,
   "metadata": {},
   "outputs": [],
   "source": [
    "# Drop columns that are not useful\n",
    "df = df.drop(\n",
    "    columns=[\n",
    "        \"ORGANIZATION_NAME\",\n",
    "        \"SHELTER_GROUP\",\n",
    "        \"LOCATION_NAME\",\n",
    "        \"LOCATION_ADDRESS\",\n",
    "        \"LOCATION_POSTAL_CODE\",\n",
    "        \"LOCATION_CITY\",\n",
    "        \"LOCATION_PROVINCE\",\n",
    "        \"PROGRAM_NAME\",\n",
    "        \"CAPACITY_ACTUAL_BED\",\n",
    "        \"CAPACITY_FUNDING_BED\",\n",
    "        \"OCCUPIED_BEDS\",\n",
    "        \"UNOCCUPIED_BEDS\",\n",
    "        \"UNAVAILABLE_BEDS\",\n",
    "        \"CAPACITY_TYPE\",\n",
    "        \"CAPACITY_ACTUAL_ROOM\",\n",
    "        \"CAPACITY_FUNDING_ROOM\",\n",
    "        \"OCCUPIED_ROOMS\",\n",
    "        \"UNOCCUPIED_ROOMS\",\n",
    "        \"UNAVAILABLE_ROOMS\",\n",
    "        \"OCCUPANCY_RATE_BEDS\",\n",
    "        \"OCCUPANCY_RATE_ROOMS\",\n",
    "    ]\n",
    ")"
   ]
  },
  {
   "cell_type": "code",
   "execution_count": 25,
   "metadata": {},
   "outputs": [],
   "source": [
    "# Encode categorical variables\n",
    "le1 = LabelEncoder()\n",
    "df[\"SECTOR\"] = le1.fit_transform(df[\"SECTOR\"])\n",
    "\n",
    "le2 = LabelEncoder()\n",
    "df[\"PROGRAM_MODEL\"] = le2.fit_transform(df[\"PROGRAM_MODEL\"])\n",
    "\n",
    "le3 = LabelEncoder()\n",
    "df[\"OVERNIGHT_SERVICE_TYPE\"] = le3.fit_transform(df[\"OVERNIGHT_SERVICE_TYPE\"])\n",
    "\n",
    "le4 = LabelEncoder()\n",
    "df[\"PROGRAM_AREA\"] = le4.fit_transform(df[\"PROGRAM_AREA\"])\n",
    "\n",
    "le5 = LabelEncoder()\n",
    "df[\"Neighbourhood\"] = le5.fit_transform(df[\"Neighbourhood\"])\n",
    "\n",
    "le6 = LabelEncoder()\n",
    "df[\"TSNS 2020 Designation\"] = le6.fit_transform(df[\"TSNS 2020 Designation\"])"
   ]
  },
  {
   "cell_type": "code",
   "execution_count": 26,
   "metadata": {},
   "outputs": [],
   "source": [
    "for column in df.columns:\n",
    "    if df[column].isna().any():\n",
    "        df.dropna(subset=[column], inplace=True)"
   ]
  },
  {
   "cell_type": "code",
   "execution_count": 27,
   "metadata": {},
   "outputs": [],
   "source": [
    "for column in df.columns:\n",
    "    if df[column].isna().any():\n",
    "        df.dropna(subset=[column], inplace=True)"
   ]
  },
  {
   "cell_type": "code",
   "execution_count": 28,
   "metadata": {},
   "outputs": [],
   "source": [
    "# Split the DataFrame into training and testing sets\n",
    "train_df = df[df['year'].isin([2021, 2022])]\n",
    "test_df = df[df['year'] == 2023]"
   ]
  },
  {
   "cell_type": "code",
   "execution_count": 29,
   "metadata": {},
   "outputs": [],
   "source": [
    "# Shuffle the data\n",
    "shuffled_train_df = train_df.sample(frac=1).reset_index(drop=True)\n",
    "shuffled_test_df = test_df.sample(frac=1).reset_index(drop=True)"
   ]
  },
  {
   "cell_type": "code",
   "execution_count": 30,
   "metadata": {},
   "outputs": [],
   "source": [
    "# Split into features and target\n",
    "x_train = shuffled_train_df.drop(\"SERVICE_USER_COUNT\", axis=1)\n",
    "y_train = shuffled_train_df[\"SERVICE_USER_COUNT\"]\n",
    "x_test = shuffled_test_df.drop(\"SERVICE_USER_COUNT\", axis=1)\n",
    "y_test = shuffled_test_df[\"SERVICE_USER_COUNT\"]"
   ]
  },
  {
   "cell_type": "code",
   "execution_count": 31,
   "metadata": {},
   "outputs": [],
   "source": [
    "# Apply PCA\n",
    "pca = PCA(n_components=0.99)  # keep 99% of variance\n",
    "x_train_pca = pca.fit_transform(x_train)\n",
    "x_test_pca = pca.transform(x_test)"
   ]
  },
  {
   "cell_type": "code",
   "execution_count": 32,
   "metadata": {},
   "outputs": [
    {
     "name": "stdout",
     "output_type": "stream",
     "text": [
      "Mean Squared Error: 8309.932356465739\n"
     ]
    }
   ],
   "source": [
    "model = QuantileRegressor(quantile=0.5, alpha=0.01, solver='highs')\n",
    "model.fit(x_train_pca, y_train)\n",
    "\n",
    "y_pred = model.predict(x_test_pca)\n",
    "mse = mean_squared_error(y_test, y_pred)\n",
    "print(f'Mean Squared Error: {mse}')"
   ]
  },
  {
   "cell_type": "code",
   "execution_count": 34,
   "metadata": {},
   "outputs": [
    {
     "name": "stdout",
     "output_type": "stream",
     "text": [
      "       Predicted  Actual\n",
      "0      23.007424      21\n",
      "1      46.989241     138\n",
      "2      33.702509      46\n",
      "3      38.754124      37\n",
      "4      38.393058      53\n",
      "...          ...     ...\n",
      "34696  44.530344     110\n",
      "34697  47.008275       5\n",
      "34698  31.401393      45\n",
      "34699  22.997749       9\n",
      "34700  40.133028      38\n",
      "\n",
      "[34701 rows x 2 columns]\n"
     ]
    }
   ],
   "source": [
    "comparison_df = pd.DataFrame({'Predicted': y_pred, 'Actual': y_test.reset_index(drop=True)})\n",
    "print(comparison_df)"
   ]
  }
 ],
 "metadata": {
  "kernelspec": {
   "display_name": "fc",
   "language": "python",
   "name": "python3"
  },
  "language_info": {
   "codemirror_mode": {
    "name": "ipython",
    "version": 3
   },
   "file_extension": ".py",
   "mimetype": "text/x-python",
   "name": "python",
   "nbconvert_exporter": "python",
   "pygments_lexer": "ipython3",
   "version": "3.11.5"
  }
 },
 "nbformat": 4,
 "nbformat_minor": 2
}
