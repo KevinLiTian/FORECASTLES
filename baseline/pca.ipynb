{
 "cells": [
  {
   "cell_type": "code",
   "execution_count": 85,
   "metadata": {},
   "outputs": [],
   "source": [
    "# Import packages\n",
    "import pandas as pd\n",
    "from sklearn.model_selection import train_test_split\n",
    "from sklearn.preprocessing import StandardScaler\n",
    "from sklearn.decomposition import PCA\n",
    "from sklearn.linear_model import LinearRegression\n",
    "from sklearn.metrics import mean_squared_error\n",
    "from sklearn.preprocessing import LabelEncoder"
   ]
  },
  {
   "cell_type": "code",
   "execution_count": 86,
   "metadata": {},
   "outputs": [],
   "source": [
    "# Load the data\n",
    "df2021 = pd.read_csv('../data/daily-shelter-overnight-service-occupancy-capacity-2021.csv')\n",
    "df2022 = pd.read_csv('../data/daily-shelter-overnight-service-occupancy-capacity-2022.csv')\n",
    "df2023 = pd.read_csv('../data/Daily shelter overnight occupancy.csv') \n",
    "\n",
    "# Unify year format\n",
    "df2021['OCCUPANCY_DATE'] = df2021['OCCUPANCY_DATE'].apply(lambda x: '2021' + x[2:] if x.startswith('21') else x)\n",
    "df2022['OCCUPANCY_DATE'] = df2022['OCCUPANCY_DATE'].apply(lambda x: '2022' + x[2:] if x.startswith('22') else x)\n",
    "\n",
    "# Concatenate the dataframes\n",
    "df = pd.concat([df2021, df2022, df2023], ignore_index=True)"
   ]
  },
  {
   "cell_type": "code",
   "execution_count": 87,
   "metadata": {},
   "outputs": [],
   "source": [
    "# Process date column\n",
    "df[\"OCCUPANCY_DATE\"] = pd.to_datetime(df[\"OCCUPANCY_DATE\"])\n",
    "df[\"year\"] = df[\"OCCUPANCY_DATE\"].dt.year\n",
    "df[\"month\"] = df[\"OCCUPANCY_DATE\"].dt.month\n",
    "df[\"day\"] = df[\"OCCUPANCY_DATE\"].dt.day\n",
    "df = df.drop(columns=[\"OCCUPANCY_DATE\"])"
   ]
  },
  {
   "cell_type": "code",
   "execution_count": 88,
   "metadata": {},
   "outputs": [],
   "source": [
    "# Drop columns that are not useful\n",
    "df = df.drop(\n",
    "    columns=[\n",
    "        \"ORGANIZATION_NAME\",\n",
    "        \"SHELTER_GROUP\",\n",
    "        \"LOCATION_NAME\",\n",
    "        \"LOCATION_ADDRESS\",\n",
    "        \"LOCATION_POSTAL_CODE\",\n",
    "        \"LOCATION_CITY\",\n",
    "        \"LOCATION_PROVINCE\",\n",
    "        \"PROGRAM_NAME\",\n",
    "        \"CAPACITY_ACTUAL_BED\",\n",
    "        \"CAPACITY_FUNDING_BED\",\n",
    "        \"OCCUPIED_BEDS\",\n",
    "        \"UNOCCUPIED_BEDS\",\n",
    "        \"UNAVAILABLE_BEDS\",\n",
    "        \"CAPACITY_ACTUAL_ROOM\",\n",
    "        \"CAPACITY_FUNDING_ROOM\",\n",
    "        \"OCCUPIED_ROOMS\",\n",
    "        \"UNOCCUPIED_ROOMS\",\n",
    "        \"UNAVAILABLE_ROOMS\",\n",
    "        \"OCCUPANCY_RATE_BEDS\",\n",
    "        \"OCCUPANCY_RATE_ROOMS\",\n",
    "    ]\n",
    ")"
   ]
  },
  {
   "cell_type": "code",
   "execution_count": 89,
   "metadata": {},
   "outputs": [],
   "source": [
    "# Encode categorical variables\n",
    "le1 = LabelEncoder()\n",
    "df[\"SECTOR\"] = le1.fit_transform(df[\"SECTOR\"])\n",
    "\n",
    "le2 = LabelEncoder()\n",
    "df[\"PROGRAM_MODEL\"] = le2.fit_transform(df[\"PROGRAM_MODEL\"])\n",
    "\n",
    "le3 = LabelEncoder()\n",
    "df[\"OVERNIGHT_SERVICE_TYPE\"] = le3.fit_transform(df[\"OVERNIGHT_SERVICE_TYPE\"])\n",
    "\n",
    "le4 = LabelEncoder()\n",
    "df[\"PROGRAM_AREA\"] = le4.fit_transform(df[\"PROGRAM_AREA\"])\n",
    "\n",
    "le5 = LabelEncoder()\n",
    "df[\"CAPACITY_TYPE\"] = le5.fit_transform(df[\"CAPACITY_TYPE\"])"
   ]
  },
  {
   "cell_type": "code",
   "execution_count": 90,
   "metadata": {},
   "outputs": [],
   "source": [
    "# Drop NaN rows\n",
    "df.dropna(subset=[\"LOCATION_ID\"], inplace=True)"
   ]
  },
  {
   "cell_type": "code",
   "execution_count": 91,
   "metadata": {},
   "outputs": [],
   "source": [
    "# Standardize data\n",
    "scaler = StandardScaler()\n",
    "scaled_data = scaler.fit_transform(df.drop(\"SERVICE_USER_COUNT\", axis=1))"
   ]
  },
  {
   "cell_type": "code",
   "execution_count": 92,
   "metadata": {},
   "outputs": [],
   "source": [
    "# Step 3: Separate Features and Target\n",
    "X = scaled_data\n",
    "y = df['SERVICE_USER_COUNT']\n",
    "\n",
    "# Split data into training and testing sets\n",
    "X_train, X_test, y_train, y_test = train_test_split(X, y, test_size=0.2, random_state=42)"
   ]
  },
  {
   "cell_type": "code",
   "execution_count": 93,
   "metadata": {},
   "outputs": [],
   "source": [
    "# Step 4: Apply PCA\n",
    "pca = PCA(n_components=0.99)  # keep 99% of variance\n",
    "X_train_pca = pca.fit_transform(X_train)\n",
    "X_test_pca = pca.transform(X_test)"
   ]
  },
  {
   "cell_type": "code",
   "execution_count": 94,
   "metadata": {},
   "outputs": [
    {
     "data": {
      "text/html": [
       "<style>#sk-container-id-8 {color: black;}#sk-container-id-8 pre{padding: 0;}#sk-container-id-8 div.sk-toggleable {background-color: white;}#sk-container-id-8 label.sk-toggleable__label {cursor: pointer;display: block;width: 100%;margin-bottom: 0;padding: 0.3em;box-sizing: border-box;text-align: center;}#sk-container-id-8 label.sk-toggleable__label-arrow:before {content: \"▸\";float: left;margin-right: 0.25em;color: #696969;}#sk-container-id-8 label.sk-toggleable__label-arrow:hover:before {color: black;}#sk-container-id-8 div.sk-estimator:hover label.sk-toggleable__label-arrow:before {color: black;}#sk-container-id-8 div.sk-toggleable__content {max-height: 0;max-width: 0;overflow: hidden;text-align: left;background-color: #f0f8ff;}#sk-container-id-8 div.sk-toggleable__content pre {margin: 0.2em;color: black;border-radius: 0.25em;background-color: #f0f8ff;}#sk-container-id-8 input.sk-toggleable__control:checked~div.sk-toggleable__content {max-height: 200px;max-width: 100%;overflow: auto;}#sk-container-id-8 input.sk-toggleable__control:checked~label.sk-toggleable__label-arrow:before {content: \"▾\";}#sk-container-id-8 div.sk-estimator input.sk-toggleable__control:checked~label.sk-toggleable__label {background-color: #d4ebff;}#sk-container-id-8 div.sk-label input.sk-toggleable__control:checked~label.sk-toggleable__label {background-color: #d4ebff;}#sk-container-id-8 input.sk-hidden--visually {border: 0;clip: rect(1px 1px 1px 1px);clip: rect(1px, 1px, 1px, 1px);height: 1px;margin: -1px;overflow: hidden;padding: 0;position: absolute;width: 1px;}#sk-container-id-8 div.sk-estimator {font-family: monospace;background-color: #f0f8ff;border: 1px dotted black;border-radius: 0.25em;box-sizing: border-box;margin-bottom: 0.5em;}#sk-container-id-8 div.sk-estimator:hover {background-color: #d4ebff;}#sk-container-id-8 div.sk-parallel-item::after {content: \"\";width: 100%;border-bottom: 1px solid gray;flex-grow: 1;}#sk-container-id-8 div.sk-label:hover label.sk-toggleable__label {background-color: #d4ebff;}#sk-container-id-8 div.sk-serial::before {content: \"\";position: absolute;border-left: 1px solid gray;box-sizing: border-box;top: 0;bottom: 0;left: 50%;z-index: 0;}#sk-container-id-8 div.sk-serial {display: flex;flex-direction: column;align-items: center;background-color: white;padding-right: 0.2em;padding-left: 0.2em;position: relative;}#sk-container-id-8 div.sk-item {position: relative;z-index: 1;}#sk-container-id-8 div.sk-parallel {display: flex;align-items: stretch;justify-content: center;background-color: white;position: relative;}#sk-container-id-8 div.sk-item::before, #sk-container-id-8 div.sk-parallel-item::before {content: \"\";position: absolute;border-left: 1px solid gray;box-sizing: border-box;top: 0;bottom: 0;left: 50%;z-index: -1;}#sk-container-id-8 div.sk-parallel-item {display: flex;flex-direction: column;z-index: 1;position: relative;background-color: white;}#sk-container-id-8 div.sk-parallel-item:first-child::after {align-self: flex-end;width: 50%;}#sk-container-id-8 div.sk-parallel-item:last-child::after {align-self: flex-start;width: 50%;}#sk-container-id-8 div.sk-parallel-item:only-child::after {width: 0;}#sk-container-id-8 div.sk-dashed-wrapped {border: 1px dashed gray;margin: 0 0.4em 0.5em 0.4em;box-sizing: border-box;padding-bottom: 0.4em;background-color: white;}#sk-container-id-8 div.sk-label label {font-family: monospace;font-weight: bold;display: inline-block;line-height: 1.2em;}#sk-container-id-8 div.sk-label-container {text-align: center;}#sk-container-id-8 div.sk-container {/* jupyter's `normalize.less` sets `[hidden] { display: none; }` but bootstrap.min.css set `[hidden] { display: none !important; }` so we also need the `!important` here to be able to override the default hidden behavior on the sphinx rendered scikit-learn.org. See: https://github.com/scikit-learn/scikit-learn/issues/21755 */display: inline-block !important;position: relative;}#sk-container-id-8 div.sk-text-repr-fallback {display: none;}</style><div id=\"sk-container-id-8\" class=\"sk-top-container\"><div class=\"sk-text-repr-fallback\"><pre>LinearRegression()</pre><b>In a Jupyter environment, please rerun this cell to show the HTML representation or trust the notebook. <br />On GitHub, the HTML representation is unable to render, please try loading this page with nbviewer.org.</b></div><div class=\"sk-container\" hidden><div class=\"sk-item\"><div class=\"sk-estimator sk-toggleable\"><input class=\"sk-toggleable__control sk-hidden--visually\" id=\"sk-estimator-id-8\" type=\"checkbox\" checked><label for=\"sk-estimator-id-8\" class=\"sk-toggleable__label sk-toggleable__label-arrow\">LinearRegression</label><div class=\"sk-toggleable__content\"><pre>LinearRegression()</pre></div></div></div></div></div>"
      ],
      "text/plain": [
       "LinearRegression()"
      ]
     },
     "execution_count": 94,
     "metadata": {},
     "output_type": "execute_result"
    }
   ],
   "source": [
    "# Step 5: Train a Model\n",
    "reg = LinearRegression()\n",
    "reg.fit(X_train_pca, y_train)"
   ]
  },
  {
   "cell_type": "code",
   "execution_count": 95,
   "metadata": {},
   "outputs": [
    {
     "name": "stdout",
     "output_type": "stream",
     "text": [
      "Mean Squared Error: 3487.8509176874263\n"
     ]
    }
   ],
   "source": [
    "# Step 6: Evaluate Your Model\n",
    "y_pred = reg.predict(X_test_pca)\n",
    "mse = mean_squared_error(y_test, y_pred)\n",
    "print(f'Mean Squared Error: {mse}')"
   ]
  },
  {
   "cell_type": "code",
   "execution_count": 96,
   "metadata": {},
   "outputs": [
    {
     "name": "stdout",
     "output_type": "stream",
     "text": [
      "        Predicted  Actual\n",
      "0       66.166788      34\n",
      "1       60.037770      43\n",
      "2       66.251844      11\n",
      "3       23.265554      44\n",
      "4       54.470768      20\n",
      "...           ...     ...\n",
      "27553   44.229940      50\n",
      "27554   24.316035      43\n",
      "27555   69.200038      47\n",
      "27556  101.778167      76\n",
      "27557  110.814908     156\n",
      "\n",
      "[27558 rows x 2 columns]\n"
     ]
    }
   ],
   "source": [
    "comparison_df = pd.DataFrame({'Predicted': y_pred, 'Actual': y_test.reset_index(drop=True)})\n",
    "print(comparison_df)"
   ]
  },
  {
   "cell_type": "markdown",
   "metadata": {},
   "source": [
    "## Other models"
   ]
  },
  {
   "cell_type": "markdown",
   "metadata": {},
   "source": [
    "### SVM"
   ]
  },
  {
   "cell_type": "code",
   "execution_count": 97,
   "metadata": {},
   "outputs": [
    {
     "name": "stdout",
     "output_type": "stream",
     "text": [
      "Mean Squared Error: 2492.185114299864\n"
     ]
    }
   ],
   "source": [
    "from sklearn.svm import SVR  # Support Vector Regression for regression tasks\n",
    "svr = SVR()\n",
    "svr.fit(X_train_pca, y_train)\n",
    "\n",
    "y_pred = svr.predict(X_test_pca)\n",
    "mse = mean_squared_error(y_test, y_pred)\n",
    "print(f'Mean Squared Error: {mse}')"
   ]
  },
  {
   "cell_type": "code",
   "execution_count": 98,
   "metadata": {},
   "outputs": [
    {
     "name": "stdout",
     "output_type": "stream",
     "text": [
      "        Predicted  Actual\n",
      "0       35.257518      34\n",
      "1       42.759903      43\n",
      "2       35.019142      11\n",
      "3       43.917307      44\n",
      "4       31.102841      20\n",
      "...           ...     ...\n",
      "27553   49.937587      50\n",
      "27554   44.076683      43\n",
      "27555   49.009125      47\n",
      "27556   84.676057      76\n",
      "27557  100.824181     156\n",
      "\n",
      "[27558 rows x 2 columns]\n"
     ]
    }
   ],
   "source": [
    "comparison_df = pd.DataFrame({'Predicted': y_pred, 'Actual': y_test.reset_index(drop=True)})\n",
    "print(comparison_df)"
   ]
  },
  {
   "cell_type": "markdown",
   "metadata": {},
   "source": [
    "### Random Forest"
   ]
  },
  {
   "cell_type": "code",
   "execution_count": 99,
   "metadata": {},
   "outputs": [
    {
     "name": "stdout",
     "output_type": "stream",
     "text": [
      "Mean Squared Error: 4.0533245772552435\n"
     ]
    }
   ],
   "source": [
    "from sklearn.ensemble import RandomForestRegressor\n",
    "rf = RandomForestRegressor(random_state=42)\n",
    "rf.fit(X_train_pca, y_train)\n",
    "\n",
    "y_pred = rf.predict(X_test_pca)\n",
    "mse = mean_squared_error(y_test, y_pred)\n",
    "print(f'Mean Squared Error: {mse}')"
   ]
  },
  {
   "cell_type": "code",
   "execution_count": 100,
   "metadata": {},
   "outputs": [
    {
     "name": "stdout",
     "output_type": "stream",
     "text": [
      "       Predicted  Actual\n",
      "0          33.51      34\n",
      "1          43.00      43\n",
      "2          10.98      11\n",
      "3          44.00      44\n",
      "4          20.28      20\n",
      "...          ...     ...\n",
      "27553      49.98      50\n",
      "27554      44.00      43\n",
      "27555      47.45      47\n",
      "27556      76.59      76\n",
      "27557     156.03     156\n",
      "\n",
      "[27558 rows x 2 columns]\n"
     ]
    }
   ],
   "source": [
    "comparison_df = pd.DataFrame({'Predicted': y_pred, 'Actual': y_test.reset_index(drop=True)})\n",
    "print(comparison_df)"
   ]
  }
 ],
 "metadata": {
  "kernelspec": {
   "display_name": "fc",
   "language": "python",
   "name": "python3"
  },
  "language_info": {
   "codemirror_mode": {
    "name": "ipython",
    "version": 3
   },
   "file_extension": ".py",
   "mimetype": "text/x-python",
   "name": "python",
   "nbconvert_exporter": "python",
   "pygments_lexer": "ipython3",
   "version": "3.11.5"
  }
 },
 "nbformat": 4,
 "nbformat_minor": 2
}
