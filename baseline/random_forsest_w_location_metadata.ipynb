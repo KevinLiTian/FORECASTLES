{
 "cells": [
  {
   "cell_type": "code",
   "execution_count": 79,
   "metadata": {},
   "outputs": [],
   "source": [
    "# Import packages\n",
    "import numpy as np\n",
    "import pandas as pd\n",
    "from sklearn.decomposition import PCA\n",
    "from sklearn.preprocessing import LabelEncoder\n",
    "from sklearn.preprocessing import StandardScaler\n",
    "from sklearn.model_selection import train_test_split\n",
    "from sklearn.ensemble import RandomForestRegressor\n",
    "from sklearn.metrics import mean_squared_error"
   ]
  },
  {
   "cell_type": "code",
   "execution_count": 80,
   "metadata": {},
   "outputs": [],
   "source": [
    "df = pd.read_csv('../data/shelter_neighbourhood_features.csv')"
   ]
  },
  {
   "cell_type": "code",
   "execution_count": 81,
   "metadata": {},
   "outputs": [],
   "source": [
    "# Process date column\n",
    "df[\"OCCUPANCY_DATE\"] = pd.to_datetime(df[\"OCCUPANCY_DATE\"])\n",
    "df[\"year\"] = df[\"OCCUPANCY_DATE\"].dt.year\n",
    "df[\"month\"] = df[\"OCCUPANCY_DATE\"].dt.month\n",
    "df[\"day\"] = df[\"OCCUPANCY_DATE\"].dt.day\n",
    "df = df.drop(columns=[\"OCCUPANCY_DATE\"])"
   ]
  },
  {
   "cell_type": "code",
   "execution_count": 82,
   "metadata": {},
   "outputs": [],
   "source": [
    "# Get occupancy rate\n",
    "df['OCCUPANCY_RATE'] = np.where(df['CAPACITY_TYPE'] == 'Bed Based Capacity', df['OCCUPANCY_RATE_BEDS'], np.where(df['CAPACITY_TYPE'] == 'Room Based Capacity', df['OCCUPANCY_RATE_ROOMS'], np.nan))"
   ]
  },
  {
   "cell_type": "code",
   "execution_count": 83,
   "metadata": {},
   "outputs": [],
   "source": [
    "# Drop columns that are not useful\n",
    "df = df.drop(\n",
    "    columns=[\n",
    "        \"ORGANIZATION_NAME\",\n",
    "        \"SHELTER_GROUP\",\n",
    "        \"LOCATION_NAME\",\n",
    "        \"LOCATION_ADDRESS\",\n",
    "        \"LOCATION_POSTAL_CODE\",\n",
    "        \"LOCATION_CITY\",\n",
    "        \"LOCATION_PROVINCE\",\n",
    "        \"PROGRAM_NAME\",\n",
    "        \"CAPACITY_ACTUAL_BED\",\n",
    "        \"CAPACITY_FUNDING_BED\",\n",
    "        \"OCCUPIED_BEDS\",\n",
    "        \"UNOCCUPIED_BEDS\",\n",
    "        \"UNAVAILABLE_BEDS\",\n",
    "        \"CAPACITY_TYPE\",\n",
    "        \"CAPACITY_ACTUAL_ROOM\",\n",
    "        \"CAPACITY_FUNDING_ROOM\",\n",
    "        \"OCCUPIED_ROOMS\",\n",
    "        \"UNOCCUPIED_ROOMS\",\n",
    "        \"UNAVAILABLE_ROOMS\",\n",
    "        \"OCCUPANCY_RATE_BEDS\",\n",
    "        \"OCCUPANCY_RATE_ROOMS\",\n",
    "    ]\n",
    ")"
   ]
  },
  {
   "cell_type": "code",
   "execution_count": 84,
   "metadata": {},
   "outputs": [],
   "source": [
    "# Encode categorical variables\n",
    "le1 = LabelEncoder()\n",
    "df[\"SECTOR\"] = le1.fit_transform(df[\"SECTOR\"])\n",
    "\n",
    "le2 = LabelEncoder()\n",
    "df[\"PROGRAM_MODEL\"] = le2.fit_transform(df[\"PROGRAM_MODEL\"])\n",
    "\n",
    "le3 = LabelEncoder()\n",
    "df[\"OVERNIGHT_SERVICE_TYPE\"] = le3.fit_transform(df[\"OVERNIGHT_SERVICE_TYPE\"])\n",
    "\n",
    "le4 = LabelEncoder()\n",
    "df[\"PROGRAM_AREA\"] = le4.fit_transform(df[\"PROGRAM_AREA\"])\n",
    "\n",
    "le5 = LabelEncoder()\n",
    "df[\"Neighbourhood\"] = le5.fit_transform(df[\"Neighbourhood\"])\n",
    "\n",
    "le6 = LabelEncoder()\n",
    "df[\"TSNS 2020 Designation\"] = le6.fit_transform(df[\"TSNS 2020 Designation\"])"
   ]
  },
  {
   "cell_type": "code",
   "execution_count": 85,
   "metadata": {},
   "outputs": [],
   "source": [
    "for column in df.columns:\n",
    "    if df[column].isna().any():\n",
    "        df.dropna(subset=[column], inplace=True)"
   ]
  },
  {
   "cell_type": "code",
   "execution_count": 86,
   "metadata": {},
   "outputs": [],
   "source": [
    "# Standardize data\n",
    "scaler = StandardScaler()\n",
    "scaled_data = scaler.fit_transform(df.drop(\"OCCUPANCY_RATE\", axis=1))"
   ]
  },
  {
   "cell_type": "code",
   "execution_count": 87,
   "metadata": {},
   "outputs": [],
   "source": [
    "# Split the DataFrame into training and testing sets\n",
    "train_df = df[df['year'].isin([2021, 2022])]\n",
    "test_df = df[df['year'] == 2023]"
   ]
  },
  {
   "cell_type": "code",
   "execution_count": 88,
   "metadata": {},
   "outputs": [],
   "source": [
    "# Shuffle the data\n",
    "shuffled_train_df = train_df.sample(frac=1).reset_index(drop=True)\n",
    "shuffled_test_df = test_df.sample(frac=1).reset_index(drop=True)"
   ]
  },
  {
   "cell_type": "code",
   "execution_count": 89,
   "metadata": {},
   "outputs": [],
   "source": [
    "# Split into features and target\n",
    "x_train = shuffled_train_df.drop(\"OCCUPANCY_RATE\", axis=1)\n",
    "y_train = shuffled_train_df[\"OCCUPANCY_RATE\"]\n",
    "x_test = shuffled_test_df.drop(\"OCCUPANCY_RATE\", axis=1)\n",
    "y_test = shuffled_test_df[\"OCCUPANCY_RATE\"]"
   ]
  },
  {
   "cell_type": "code",
   "execution_count": 90,
   "metadata": {},
   "outputs": [],
   "source": [
    "# Apply PCA\n",
    "pca = PCA(n_components=0.99)  # keep 99% of variance\n",
    "x_train_pca = pca.fit_transform(x_train)\n",
    "x_test_pca = pca.transform(x_test)"
   ]
  },
  {
   "cell_type": "code",
   "execution_count": 91,
   "metadata": {},
   "outputs": [
    {
     "name": "stdout",
     "output_type": "stream",
     "text": [
      "Mean Squared Error: 92.55462068617327\n"
     ]
    }
   ],
   "source": [
    "rf = RandomForestRegressor(n_estimators=400, random_state=42, n_jobs=-1)\n",
    "rf.fit(x_train_pca, y_train)\n",
    "\n",
    "y_pred = rf.predict(x_test_pca)\n",
    "mse = mean_squared_error(y_test, y_pred)\n",
    "print(f'Mean Squared Error: {mse}')"
   ]
  },
  {
   "cell_type": "code",
   "execution_count": 92,
   "metadata": {},
   "outputs": [
    {
     "name": "stdout",
     "output_type": "stream",
     "text": [
      "        Predicted  Actual\n",
      "0       99.205675  100.00\n",
      "1       89.797424  100.00\n",
      "2      100.000000  100.00\n",
      "3       98.256375  100.00\n",
      "4       99.795450  100.00\n",
      "...           ...     ...\n",
      "34696   98.452225  100.00\n",
      "34697   98.421700  100.00\n",
      "34698   86.752175   84.62\n",
      "34699   95.690700   97.44\n",
      "34700  100.000000  100.00\n",
      "\n",
      "[34701 rows x 2 columns]\n"
     ]
    }
   ],
   "source": [
    "comparison_df = pd.DataFrame({'Predicted': y_pred, 'Actual': y_test.reset_index(drop=True)})\n",
    "print(comparison_df)"
   ]
  }
 ],
 "metadata": {
  "kernelspec": {
   "display_name": "fc",
   "language": "python",
   "name": "python3"
  },
  "language_info": {
   "codemirror_mode": {
    "name": "ipython",
    "version": 3
   },
   "file_extension": ".py",
   "mimetype": "text/x-python",
   "name": "python",
   "nbconvert_exporter": "python",
   "pygments_lexer": "ipython3",
   "version": "3.11.5"
  }
 },
 "nbformat": 4,
 "nbformat_minor": 2
}
