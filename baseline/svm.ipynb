{
 "cells": [
  {
   "cell_type": "code",
   "execution_count": 94,
   "id": "227bc70a",
   "metadata": {},
   "outputs": [],
   "source": [
    "import pandas as pd\n",
    "import numpy as np\n",
    "import matplotlib.pyplot as plt\n",
    "import seaborn as sns\n",
    "\n",
    "# To scale the data using z-score \n",
    "from sklearn.preprocessing import StandardScaler\n",
    "\n",
    "from sklearn.model_selection import train_test_split\n",
    "\n",
    "# Algorithms to use\n",
    "from sklearn.linear_model import LogisticRegression\n",
    "\n",
    "from sklearn.svm import SVC, SVR\n",
    "\n",
    "from sklearn.tree import DecisionTreeClassifier\n",
    "\n",
    "from sklearn.ensemble import BaggingClassifier\n",
    "\n",
    "from sklearn.ensemble import RandomForestClassifier\n",
    "\n",
    "# Metrics to evaluate the model\n",
    "from sklearn import metrics\n",
    "from sklearn.metrics import confusion_matrix, classification_report, precision_recall_curve,recall_score, mean_squared_error\n",
    "from sklearn import tree\n",
    "\n",
    "\n",
    "# For tuning the model\n",
    "from sklearn.model_selection import GridSearchCV"
   ]
  },
  {
   "cell_type": "code",
   "execution_count": 13,
   "id": "dcd7425e",
   "metadata": {},
   "outputs": [],
   "source": [
    "occupancy_data_2023 = pd.read_csv(\"./data/occupancy/Daily_shelter_overnight_occupancy.csv\", low_memory=False)\n",
    "occupancy_data_2021 = pd.read_csv(\"./data/occupancy/daily-shelter-overnight-service-occupancy-capacity-2021.csv\", low_memory=False)\n",
    "occupancy_data_2022 = pd.read_csv(\"./data/occupancy/daily-shelter-overnight-service-occupancy-capacity-2022.csv\", low_memory=False)\n",
    "\n",
    "occupancy_data_2022['OCCUPANCY_DATE'] = pd.to_datetime(occupancy_data_2022['OCCUPANCY_DATE'], format='%y-%m-%d').dt.strftime('%Y-%m-%d')\n",
    "occupancy_data_2021['OCCUPANCY_DATE'] = pd.to_datetime(occupancy_data_2021['OCCUPANCY_DATE'], format='%y-%m-%d').dt.strftime('%Y-%m-%d')"
   ]
  },
  {
   "cell_type": "code",
   "execution_count": 14,
   "id": "c717df14",
   "metadata": {},
   "outputs": [],
   "source": [
    "all_shelter_data = pd.concat([occupancy_data_2023, occupancy_data_2022, occupancy_data_2021])"
   ]
  },
  {
   "cell_type": "code",
   "execution_count": 15,
   "id": "421bfa9d",
   "metadata": {},
   "outputs": [],
   "source": [
    "all_shelter_data['OCCUPANCY_DATE'] = pd.to_datetime(all_shelter_data['OCCUPANCY_DATE'], format='%Y-%m-%d')"
   ]
  },
  {
   "cell_type": "code",
   "execution_count": 16,
   "id": "94eb511e",
   "metadata": {},
   "outputs": [],
   "source": [
    "toronto_data = all_shelter_data[all_shelter_data[\"LOCATION_CITY\"]==\"Toronto\"]"
   ]
  },
  {
   "cell_type": "code",
   "execution_count": 17,
   "id": "062b97de",
   "metadata": {},
   "outputs": [
    {
     "name": "stderr",
     "output_type": "stream",
     "text": [
      "<ipython-input-17-dee387474e21>:1: SettingWithCopyWarning: \n",
      "A value is trying to be set on a copy of a slice from a DataFrame.\n",
      "Try using .loc[row_indexer,col_indexer] = value instead\n",
      "\n",
      "See the caveats in the documentation: https://pandas.pydata.org/pandas-docs/stable/user_guide/indexing.html#returning-a-view-versus-a-copy\n",
      "  toronto_data['MONTH'] = toronto_data['OCCUPANCY_DATE'].dt.month\n",
      "<ipython-input-17-dee387474e21>:2: SettingWithCopyWarning: \n",
      "A value is trying to be set on a copy of a slice from a DataFrame.\n",
      "Try using .loc[row_indexer,col_indexer] = value instead\n",
      "\n",
      "See the caveats in the documentation: https://pandas.pydata.org/pandas-docs/stable/user_guide/indexing.html#returning-a-view-versus-a-copy\n",
      "  toronto_data['DAY'] = toronto_data['OCCUPANCY_DATE'].dt.day\n",
      "<ipython-input-17-dee387474e21>:3: SettingWithCopyWarning: \n",
      "A value is trying to be set on a copy of a slice from a DataFrame.\n",
      "Try using .loc[row_indexer,col_indexer] = value instead\n",
      "\n",
      "See the caveats in the documentation: https://pandas.pydata.org/pandas-docs/stable/user_guide/indexing.html#returning-a-view-versus-a-copy\n",
      "  toronto_data['YEAR'] = toronto_data['OCCUPANCY_DATE'].dt.year\n"
     ]
    }
   ],
   "source": [
    "toronto_data['MONTH'] = toronto_data['OCCUPANCY_DATE'].dt.month\n",
    "toronto_data['DAY'] = toronto_data['OCCUPANCY_DATE'].dt.day\n",
    "toronto_data['YEAR'] = toronto_data['OCCUPANCY_DATE'].dt.year"
   ]
  },
  {
   "cell_type": "code",
   "execution_count": 1,
   "id": "8afe1ec0",
   "metadata": {},
   "outputs": [
    {
     "ename": "NameError",
     "evalue": "name 'final_df' is not defined",
     "output_type": "error",
     "traceback": [
      "\u001b[1;31m---------------------------------------------------------------------------\u001b[0m",
      "\u001b[1;31mNameError\u001b[0m                                 Traceback (most recent call last)",
      "\u001b[1;32m<ipython-input-1-51ac002d03bb>\u001b[0m in \u001b[0;36m<module>\u001b[1;34m\u001b[0m\n\u001b[1;32m----> 1\u001b[1;33m \u001b[0mfinal_df\u001b[0m\u001b[1;33m.\u001b[0m\u001b[0minfo\u001b[0m\u001b[1;33m(\u001b[0m\u001b[1;33m)\u001b[0m\u001b[1;33m\u001b[0m\u001b[1;33m\u001b[0m\u001b[0m\n\u001b[0m",
      "\u001b[1;31mNameError\u001b[0m: name 'final_df' is not defined"
     ]
    }
   ],
   "source": [
    "final_df.info()"
   ]
  },
  {
   "cell_type": "code",
   "execution_count": 22,
   "id": "d7737c77",
   "metadata": {},
   "outputs": [],
   "source": [
    "toronto_data_dr = toronto_data.drop(columns = ['_id', 'OCCUPANCY_DATE', 'ORGANIZATION_ID', 'ORGANIZATION_NAME', 'SHELTER_ID', 'SHELTER_GROUP',\n",
    "                            'LOCATION_ID', 'LOCATION_NAME', 'LOCATION_ADDRESS', 'LOCATION_CITY', 'LOCATION_PROVINCE', 'PROGRAM_ID', \n",
    "                            'PROGRAM_NAME', 'OVERNIGHT_SERVICE_TYPE', 'PROGRAM_AREA', 'SERVICE_USER_COUNT', 'CAPACITY_FUNDING_BED',\n",
    "                            'OCCUPIED_BEDS', 'UNOCCUPIED_BEDS', 'CAPACITY_FUNDING_ROOM', 'OCCUPIED_ROOMS', 'UNOCCUPIED_ROOMS',\n",
    "                            ])"
   ]
  },
  {
   "cell_type": "code",
   "execution_count": 28,
   "id": "7acc8c8c",
   "metadata": {},
   "outputs": [],
   "source": [
    "toronto_data_dr_nan = toronto_data_dr[toronto_data_dr[\"PROGRAM_MODEL\"].notna()]"
   ]
  },
  {
   "cell_type": "code",
   "execution_count": 31,
   "id": "5fc0a28e",
   "metadata": {},
   "outputs": [],
   "source": [
    "# Creating list of dummy columns\n",
    "to_get_dummies_for = ['SECTOR']\n",
    "\n",
    "# Creating dummy variables\n",
    "toronto_data_dr_nan = pd.get_dummies(data = toronto_data_dr_nan, columns = to_get_dummies_for)      \n",
    "\n",
    "# Mapping overtime and attrition\n",
    "dict_prog_mod = {'Emergency': 1, 'Transitional':0}\n",
    "dict_cap_type = {'Bed Based Capacity': 1, 'Room Based Capacity': 0}\n",
    "\n",
    "\n",
    "toronto_data_dr_nan['prog_mod'] = toronto_data_dr_nan[\"PROGRAM_MODEL\"].map(dict_prog_mod)\n",
    "toronto_data_dr_nan['cap_type'] = toronto_data_dr_nan[\"CAPACITY_TYPE\"].map(dict_cap_type)"
   ]
  },
  {
   "cell_type": "code",
   "execution_count": 37,
   "id": "73b1ec0e",
   "metadata": {},
   "outputs": [],
   "source": [
    "toronto_data_dr_nan = toronto_data_dr_nan.drop(columns = [\"PROGRAM_MODEL\", \"CAPACITY_TYPE\"])"
   ]
  },
  {
   "cell_type": "code",
   "execution_count": 48,
   "id": "b1addb1a",
   "metadata": {},
   "outputs": [],
   "source": [
    "toronto_data_dr_nan[\"postal_code\"] = toronto_data_dr_nan['LOCATION_POSTAL_CODE'].apply(lambda x: x.split(\" \")[0])"
   ]
  },
  {
   "cell_type": "code",
   "execution_count": 51,
   "id": "7f79451e",
   "metadata": {},
   "outputs": [
    {
     "data": {
      "text/plain": [
       "array(['M9W', 'M5S', 'M6R', 'M6H', 'M6G', 'M1P', 'M3M', 'M4P', 'M1E',\n",
       "       'M5V', 'M1H', 'M5A', 'M1M', 'M6N', 'M5C', 'M5T', 'M5H', 'M6C',\n",
       "       'M5B', 'M4C', 'M5J', 'M5E', 'M3B', 'M4X', 'M4Y', 'M6A', 'M6K',\n",
       "       'M1K', 'M1R', 'M2H', 'M6E', 'M4K', 'M4W', 'M4M', 'M8Y', 'M2M',\n",
       "       'M6P', 'M9V', 'M5R', 'M4T', 'M2N', 'M4L', 'M6J', 'M3N'],\n",
       "      dtype=object)"
      ]
     },
     "execution_count": 51,
     "metadata": {},
     "output_type": "execute_result"
    }
   ],
   "source": [
    "toronto_data_dr_nan[\"postal_code\"].unique()"
   ]
  },
  {
   "cell_type": "code",
   "execution_count": 53,
   "id": "8570c42b",
   "metadata": {},
   "outputs": [],
   "source": [
    "toronto_data_dr_nan[\"postal_code\"] = toronto_data_dr_nan[\"postal_code\"].astype('category')"
   ]
  },
  {
   "cell_type": "code",
   "execution_count": 56,
   "id": "f0460918",
   "metadata": {},
   "outputs": [],
   "source": [
    "toronto_data_dr_nan[\"postal_code_num\"] = pd.Categorical(toronto_data_dr_nan[\"postal_code\"]).codes"
   ]
  },
  {
   "cell_type": "code",
   "execution_count": 58,
   "id": "bfe88ade",
   "metadata": {},
   "outputs": [],
   "source": [
    "final_df = toronto_data_dr_nan.drop(columns = [\"postal_code\", \"LOCATION_POSTAL_CODE\"])"
   ]
  },
  {
   "cell_type": "code",
   "execution_count": 62,
   "id": "1d9ea5af",
   "metadata": {},
   "outputs": [],
   "source": [
    "final_df = final_df.fillna(value=0.0)"
   ]
  },
  {
   "cell_type": "code",
   "execution_count": 96,
   "id": "8b470389",
   "metadata": {},
   "outputs": [],
   "source": [
    "final_df[\"OCCUPANCY_RATE_ROOMS\"] = final_df[\"OCCUPANCY_RATE_ROOMS\"]/100.0"
   ]
  },
  {
   "cell_type": "code",
   "execution_count": 97,
   "id": "ea23311d",
   "metadata": {},
   "outputs": [],
   "source": [
    "final_df[\"OCCUPANCY_RATE_BEDS\"] = final_df[\"OCCUPANCY_RATE_BEDS\"]/100.0"
   ]
  },
  {
   "cell_type": "markdown",
   "id": "422376b0",
   "metadata": {},
   "source": [
    "# Room predictor"
   ]
  },
  {
   "cell_type": "code",
   "execution_count": 122,
   "id": "5c4ae9f0",
   "metadata": {},
   "outputs": [],
   "source": [
    "Y = final_df[\"OCCUPANCY_RATE_ROOMS\"]\n",
    "X = final_df.drop(columns = ['OCCUPANCY_RATE_ROOMS', \"OCCUPANCY_RATE_BEDS\"])"
   ]
  },
  {
   "cell_type": "code",
   "execution_count": 123,
   "id": "7d61072b",
   "metadata": {},
   "outputs": [],
   "source": [
    "X_train, X_test, y_train, y_test = train_test_split(X, Y, test_size = 0.3, random_state = 1)"
   ]
  },
  {
   "cell_type": "code",
   "execution_count": 124,
   "id": "493f5a8b",
   "metadata": {},
   "outputs": [],
   "source": [
    "sc=StandardScaler()\n",
    "\n",
    "# Fit_transform on train data\n",
    "X_train_scaled=sc.fit_transform(X_train)\n",
    "X_train_scaled=pd.DataFrame(X_train_scaled, columns=X.columns)\n",
    "\n",
    "# Transform on test data\n",
    "X_test_scaled=sc.transform(X_test)\n",
    "X_test_scaled=pd.DataFrame(X_test_scaled, columns=X.columns)"
   ]
  },
  {
   "cell_type": "code",
   "execution_count": 125,
   "id": "31417c99",
   "metadata": {},
   "outputs": [
    {
     "data": {
      "text/plain": [
       "SVR(max_iter=10000)"
      ]
     },
     "execution_count": 125,
     "metadata": {},
     "output_type": "execute_result"
    }
   ],
   "source": [
    "svm_rbf=SVR(kernel='rbf', max_iter = 10000)\n",
    "# Fit the model\n",
    "svm_rbf.fit(X_train_scaled,y_train)"
   ]
  },
  {
   "cell_type": "code",
   "execution_count": 126,
   "id": "db60ace1",
   "metadata": {},
   "outputs": [
    {
     "name": "stdout",
     "output_type": "stream",
     "text": [
      "Training score: 0.9863632175344624\n",
      "Testing score: 0.9861598809310522\n"
     ]
    }
   ],
   "source": [
    "print(f\"Training score: {svm_rbf.score(X_train_scaled, y_train)}\")\n",
    "print(f\"Testing score: {svm_rbf.score(X_test_scaled, y_test)}\")"
   ]
  },
  {
   "cell_type": "code",
   "execution_count": 127,
   "id": "60f7ab45",
   "metadata": {},
   "outputs": [
    {
     "name": "stdout",
     "output_type": "stream",
     "text": [
      "Training mse: 0.05013722337267246\n",
      "Testing mse: 0.05027222938313009\n"
     ]
    }
   ],
   "source": [
    "train_pred = svm_rbf.predict(X_train_scaled)\n",
    "test_pred = svm_rbf.predict(X_test_scaled)\n",
    "print(f\"Training mse: {mean_squared_error(y_train, train_pred, squared=False)}\")\n",
    "print(f\"Testing mse: {mean_squared_error(y_test, test_pred, squared=False)}\")"
   ]
  },
  {
   "cell_type": "markdown",
   "id": "3b433654",
   "metadata": {},
   "source": [
    "# Beds Predictor"
   ]
  },
  {
   "cell_type": "code",
   "execution_count": 128,
   "id": "f2c443ee",
   "metadata": {},
   "outputs": [],
   "source": [
    "Y = final_df[\"OCCUPANCY_RATE_BEDS\"]\n",
    "X = final_df.drop(columns = ['OCCUPANCY_RATE_ROOMS', \"OCCUPANCY_RATE_BEDS\"])\n",
    "X_train, X_test, y_train, y_test = train_test_split(X, Y, test_size = 0.3, random_state = 1)\n",
    "\n",
    "sc=StandardScaler()\n",
    "\n",
    "# Fit_transform on train data\n",
    "X_train_scaled=sc.fit_transform(X_train)\n",
    "X_train_scaled=pd.DataFrame(X_train_scaled, columns=X.columns)\n",
    "\n",
    "# Transform on test data\n",
    "X_test_scaled=sc.transform(X_test)\n",
    "X_test_scaled=pd.DataFrame(X_test_scaled, columns=X.columns)"
   ]
  },
  {
   "cell_type": "code",
   "execution_count": 129,
   "id": "05d75420",
   "metadata": {},
   "outputs": [
    {
     "name": "stderr",
     "output_type": "stream",
     "text": [
      "C:\\Users\\Dell\\anaconda3\\lib\\site-packages\\sklearn\\svm\\_base.py:255: ConvergenceWarning: Solver terminated early (max_iter=10000).  Consider pre-processing your data with StandardScaler or MinMaxScaler.\n",
      "  warnings.warn('Solver terminated early (max_iter=%i).'\n"
     ]
    },
    {
     "data": {
      "text/plain": [
       "SVR(max_iter=10000)"
      ]
     },
     "execution_count": 129,
     "metadata": {},
     "output_type": "execute_result"
    }
   ],
   "source": [
    "svm_rbf2=SVR(kernel='rbf', max_iter = 10000)\n",
    "# Fit the model\n",
    "svm_rbf2.fit(X_train_scaled,y_train)"
   ]
  },
  {
   "cell_type": "code",
   "execution_count": 130,
   "id": "2905e220",
   "metadata": {},
   "outputs": [
    {
     "name": "stdout",
     "output_type": "stream",
     "text": [
      "Training score: 0.9615725930996076\n",
      "Testing score: 0.9608583254648059\n"
     ]
    }
   ],
   "source": [
    "print(f\"Training score: {svm_rbf2.score(X_train_scaled, y_train)}\")\n",
    "print(f\"Testing score: {svm_rbf2.score(X_test_scaled, y_test)}\")"
   ]
  },
  {
   "cell_type": "code",
   "execution_count": 131,
   "id": "bd58b8ac",
   "metadata": {},
   "outputs": [
    {
     "name": "stdout",
     "output_type": "stream",
     "text": [
      "Training mse: 0.08403209511132166\n",
      "Testing mse: 0.08448791811351003\n"
     ]
    }
   ],
   "source": [
    "train_pred = svm_rbf2.predict(X_train_scaled)\n",
    "test_pred = svm_rbf2.predict(X_test_scaled)\n",
    "print(f\"Training mse: {mean_squared_error(y_train, train_pred, squared=False)}\")\n",
    "print(f\"Testing mse: {mean_squared_error(y_test, test_pred, squared=False)}\")"
   ]
  },
  {
   "cell_type": "markdown",
   "id": "d19e1874",
   "metadata": {},
   "source": [
    "### Only Room data as input"
   ]
  },
  {
   "cell_type": "code",
   "execution_count": 111,
   "id": "fbcfdeed",
   "metadata": {},
   "outputs": [],
   "source": [
    "Y = final_df[final_df[\"cap_type\"]==0][\"OCCUPANCY_RATE_ROOMS\"]\n",
    "X = final_df[final_df[\"cap_type\"]==0].drop(columns = ['OCCUPANCY_RATE_ROOMS', \"OCCUPANCY_RATE_BEDS\", 'cap_type'])"
   ]
  },
  {
   "cell_type": "code",
   "execution_count": 112,
   "id": "c78f7dc3",
   "metadata": {},
   "outputs": [],
   "source": [
    "X_train, X_test, y_train, y_test = train_test_split(X, Y, test_size = 0.3, random_state = 1)\n",
    "sc=StandardScaler()\n",
    "\n",
    "# Fit_transform on train data\n",
    "X_train_scaled=sc.fit_transform(X_train)\n",
    "X_train_scaled=pd.DataFrame(X_train_scaled, columns=X.columns)\n",
    "\n",
    "# Transform on test data\n",
    "X_test_scaled=sc.transform(X_test)\n",
    "X_test_scaled=pd.DataFrame(X_test_scaled, columns=X.columns)"
   ]
  },
  {
   "cell_type": "code",
   "execution_count": 113,
   "id": "ce5a2e62",
   "metadata": {},
   "outputs": [
    {
     "name": "stdout",
     "output_type": "stream",
     "text": [
      "Training score: 0.09925118461509874\n",
      "Testing score: 0.10878320245185169\n"
     ]
    }
   ],
   "source": [
    "svm_rbf_room=SVR(kernel='rbf', max_iter = 100000)\n",
    "# Fit the model\n",
    "svm_rbf_room.fit(X_train_scaled,y_train)\n",
    "print(f\"Training score: {svm_rbf_room.score(X_train_scaled, y_train)}\")\n",
    "print(f\"Testing score: {svm_rbf_room.score(X_test_scaled, y_test)}\")"
   ]
  },
  {
   "cell_type": "code",
   "execution_count": 114,
   "id": "b4b04040",
   "metadata": {},
   "outputs": [
    {
     "name": "stdout",
     "output_type": "stream",
     "text": [
      "Training mse: 0.06856938833810024\n",
      "Testing mse: 0.07086391114121894\n"
     ]
    }
   ],
   "source": [
    "train_pred = svm_rbf_room.predict(X_train_scaled)\n",
    "test_pred = svm_rbf_room.predict(X_test_scaled)\n",
    "print(f\"Training mse: {mean_squared_error(y_train, train_pred, squared=False)}\")\n",
    "print(f\"Testing mse: {mean_squared_error(y_test, test_pred, squared=False)}\")"
   ]
  },
  {
   "cell_type": "markdown",
   "id": "0b3f7ddb",
   "metadata": {},
   "source": [
    "### Only Bed data as input"
   ]
  },
  {
   "cell_type": "code",
   "execution_count": 116,
   "id": "139379d9",
   "metadata": {},
   "outputs": [],
   "source": [
    "Y = final_df[final_df[\"cap_type\"]==1][\"OCCUPANCY_RATE_BEDS\"]\n",
    "X = final_df[final_df[\"cap_type\"]==1].drop(columns = ['OCCUPANCY_RATE_ROOMS', \"OCCUPANCY_RATE_BEDS\", 'cap_type'])"
   ]
  },
  {
   "cell_type": "code",
   "execution_count": 117,
   "id": "e2d8fb3e",
   "metadata": {},
   "outputs": [],
   "source": [
    "X_train, X_test, y_train, y_test = train_test_split(X, Y, test_size = 0.3, random_state = 1)\n",
    "sc=StandardScaler()\n",
    "\n",
    "# Fit_transform on train data\n",
    "X_train_scaled=sc.fit_transform(X_train)\n",
    "X_train_scaled=pd.DataFrame(X_train_scaled, columns=X.columns)\n",
    "\n",
    "# Transform on test data\n",
    "X_test_scaled=sc.transform(X_test)\n",
    "X_test_scaled=pd.DataFrame(X_test_scaled, columns=X.columns)"
   ]
  },
  {
   "cell_type": "code",
   "execution_count": 118,
   "id": "57dc301c",
   "metadata": {},
   "outputs": [
    {
     "name": "stdout",
     "output_type": "stream",
     "text": [
      "Training score: 0.17634674125120953\n",
      "Testing score: 0.1559900607905912\n"
     ]
    }
   ],
   "source": [
    "svm_rbf_bed=SVR(kernel='rbf', max_iter = 100000)\n",
    "# Fit the model\n",
    "svm_rbf_bed.fit(X_train_scaled,y_train)\n",
    "print(f\"Training score: {svm_rbf_bed.score(X_train_scaled, y_train)}\")\n",
    "print(f\"Testing score: {svm_rbf_bed.score(X_test_scaled, y_test)}\")"
   ]
  },
  {
   "cell_type": "code",
   "execution_count": 119,
   "id": "0c5a5b71",
   "metadata": {},
   "outputs": [
    {
     "name": "stdout",
     "output_type": "stream",
     "text": [
      "Training mse: 0.09144841489829611\n",
      "Testing mse: 0.09410094024346789\n"
     ]
    }
   ],
   "source": [
    "train_pred = svm_rbf_bed.predict(X_train_scaled)\n",
    "test_pred = svm_rbf_bed.predict(X_test_scaled)\n",
    "print(f\"Training mse: {mean_squared_error(y_train, train_pred, squared=False)}\")\n",
    "print(f\"Testing mse: {mean_squared_error(y_test, test_pred, squared=False)}\")"
   ]
  },
  {
   "cell_type": "code",
   "execution_count": null,
   "id": "701a2d2b",
   "metadata": {},
   "outputs": [],
   "source": []
  },
  {
   "cell_type": "code",
   "execution_count": null,
   "id": "0992f92f",
   "metadata": {},
   "outputs": [],
   "source": []
  }
 ],
 "metadata": {
  "kernelspec": {
   "display_name": "Python 3",
   "language": "python",
   "name": "python3"
  },
  "language_info": {
   "codemirror_mode": {
    "name": "ipython",
    "version": 3
   },
   "file_extension": ".py",
   "mimetype": "text/x-python",
   "name": "python",
   "nbconvert_exporter": "python",
   "pygments_lexer": "ipython3",
   "version": "3.8.8"
  }
 },
 "nbformat": 4,
 "nbformat_minor": 5
}
